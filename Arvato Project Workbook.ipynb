{
 "cells": [
  {
   "cell_type": "markdown",
   "metadata": {},
   "source": [
    "# Capstone Project: Create a Customer Segmentation Report for Arvato Financial Services\n",
    "\n",
    "In this project, you will analyze demographics data for customers of a mail-order sales company in Germany, comparing it against demographics information for the general population. You'll use unsupervised learning techniques to perform customer segmentation, identifying the parts of the population that best describe the core customer base of the company. Then, you'll apply what you've learned on a third dataset with demographics information for targets of a marketing campaign for the company, and use a model to predict which individuals are most likely to convert into becoming customers for the company. The data that you will use has been provided by our partners at Bertelsmann Arvato Analytics, and represents a real-life data science task.\n",
    "\n",
    "If you completed the first term of this program, you will be familiar with the first part of this project, from the unsupervised learning project. The versions of those two datasets used in this project will include many more features and has not been pre-cleaned. You are also free to choose whatever approach you'd like to analyzing the data rather than follow pre-determined steps. In your work on this project, make sure that you carefully document your steps and decisions, since your main deliverable for this project will be a blog post reporting your findings."
   ]
  },
  {
   "cell_type": "code",
   "execution_count": 177,
   "metadata": {},
   "outputs": [],
   "source": [
    "# import libraries here; add more as necessary\n",
    "import numpy as np\n",
    "import pandas as pd\n",
    "import matplotlib.pyplot as plt\n",
    "import matplotlib\n",
    "\n",
    "from sklearn.preprocessing import Imputer\n",
    "from sklearn.preprocessing import MinMaxScaler\n",
    "from sklearn.decomposition import PCA\n",
    "from sklearn.cluster import KMeans\n",
    "from sklearn.ensemble import RandomForestClassifier, AdaBoostClassifier, GradientBoostingClassifier\n",
    "from sklearn.ensemble import RandomForestRegressor, GradientBoostingRegressor\n",
    "from sklearn.linear_model import LogisticRegression\n",
    "from sklearn.model_selection import train_test_split, GridSearchCV\n",
    "from sklearn.model_selection import KFold\n",
    "from sklearn.metrics import roc_auc_score\n",
    "\n",
    "from sklearn import metrics\n",
    "\n",
    "%matplotlib inline"
   ]
  },
  {
   "cell_type": "markdown",
   "metadata": {},
   "source": [
    "## Part 0: Get to Know the Data\n",
    "\n",
    "There are four data files associated with this project:\n",
    "\n",
    "- `Udacity_AZDIAS_052018.csv`: Demographics data for the general population of Germany; 891 211 persons (rows) x 366 features (columns).\n",
    "- `Udacity_CUSTOMERS_052018.csv`: Demographics data for customers of a mail-order company; 191 652 persons (rows) x 369 features (columns).\n",
    "- `Udacity_MAILOUT_052018_TRAIN.csv`: Demographics data for individuals who were targets of a marketing campaign; 42 982 persons (rows) x 367 (columns).\n",
    "- `Udacity_MAILOUT_052018_TEST.csv`: Demographics data for individuals who were targets of a marketing campaign; 42 833 persons (rows) x 366 (columns).\n",
    "\n",
    "Each row of the demographics files represents a single person, but also includes information outside of individuals, including information about their household, building, and neighborhood. Use the information from the first two files to figure out how customers (\"CUSTOMERS\") are similar to or differ from the general population at large (\"AZDIAS\"), then use your analysis to make predictions on the other two files (\"MAILOUT\"), predicting which recipients are most likely to become a customer for the mail-order company.\n",
    "\n",
    "The \"CUSTOMERS\" file contains three extra columns ('CUSTOMER_GROUP', 'ONLINE_PURCHASE', and 'PRODUCT_GROUP'), which provide broad information about the customers depicted in the file. The original \"MAILOUT\" file included one additional column, \"RESPONSE\", which indicated whether or not each recipient became a customer of the company. For the \"TRAIN\" subset, this column has been retained, but in the \"TEST\" subset it has been removed; it is against that withheld column that your final predictions will be assessed in the Kaggle competition.\n",
    "\n",
    "Otherwise, all of the remaining columns are the same between the three data files. For more information about the columns depicted in the files, you can refer to two Excel spreadsheets provided in the workspace. [One of them](./DIAS Information Levels - Attributes 2017.xlsx) is a top-level list of attributes and descriptions, organized by informational category. [The other](./DIAS Attributes - Values 2017.xlsx) is a detailed mapping of data values for each feature in alphabetical order.\n",
    "\n",
    "In the below cell, we've provided some initial code to load in the first two datasets. Note for all of the `.csv` data files in this project that they're semicolon (`;`) delimited, so an additional argument in the [`read_csv()`](https://pandas.pydata.org/pandas-docs/stable/generated/pandas.read_csv.html) call has been included to read in the data properly. Also, considering the size of the datasets, it may take some time for them to load completely.\n",
    "\n",
    "You'll notice when the data is loaded in that a warning message will immediately pop up. Before you really start digging into the modeling and analysis, you're going to need to perform some cleaning. Take some time to browse the structure of the data and look over the informational spreadsheets to understand the data values. Make some decisions on which features to keep, which features to drop, and if any revisions need to be made on data formats. It'll be a good idea to create a function with pre-processing steps, since you'll need to clean all of the datasets before you work with them."
   ]
  },
  {
   "cell_type": "code",
   "execution_count": 2,
   "metadata": {},
   "outputs": [
    {
     "name": "stderr",
     "output_type": "stream",
     "text": [
      "/opt/conda/lib/python3.6/site-packages/IPython/core/interactiveshell.py:2785: DtypeWarning: Columns (18,19) have mixed types. Specify dtype option on import or set low_memory=False.\n",
      "  interactivity=interactivity, compiler=compiler, result=result)\n"
     ]
    }
   ],
   "source": [
    "# load in the data\n",
    "azdias = pd.read_csv('../../data/Term2/capstone/arvato_data/Udacity_AZDIAS_052018.csv', sep=';')"
   ]
  },
  {
   "cell_type": "code",
   "execution_count": 135,
   "metadata": {},
   "outputs": [
    {
     "name": "stderr",
     "output_type": "stream",
     "text": [
      "/opt/conda/lib/python3.6/site-packages/IPython/core/interactiveshell.py:2785: DtypeWarning: Columns (18,19) have mixed types. Specify dtype option on import or set low_memory=False.\n",
      "  interactivity=interactivity, compiler=compiler, result=result)\n"
     ]
    }
   ],
   "source": [
    "customers = pd.read_csv('../../data/Term2/capstone/arvato_data/Udacity_CUSTOMERS_052018.csv', sep=';')"
   ]
  },
  {
   "cell_type": "code",
   "execution_count": 4,
   "metadata": {},
   "outputs": [
    {
     "name": "stdout",
     "output_type": "stream",
     "text": [
      "(891221, 366)\n"
     ]
    },
    {
     "data": {
      "text/html": [
       "<div>\n",
       "<style scoped>\n",
       "    .dataframe tbody tr th:only-of-type {\n",
       "        vertical-align: middle;\n",
       "    }\n",
       "\n",
       "    .dataframe tbody tr th {\n",
       "        vertical-align: top;\n",
       "    }\n",
       "\n",
       "    .dataframe thead th {\n",
       "        text-align: right;\n",
       "    }\n",
       "</style>\n",
       "<table border=\"1\" class=\"dataframe\">\n",
       "  <thead>\n",
       "    <tr style=\"text-align: right;\">\n",
       "      <th></th>\n",
       "      <th>LNR</th>\n",
       "      <th>AGER_TYP</th>\n",
       "      <th>AKT_DAT_KL</th>\n",
       "      <th>ALTER_HH</th>\n",
       "      <th>ALTER_KIND1</th>\n",
       "      <th>ALTER_KIND2</th>\n",
       "      <th>ALTER_KIND3</th>\n",
       "      <th>ALTER_KIND4</th>\n",
       "      <th>ALTERSKATEGORIE_FEIN</th>\n",
       "      <th>ANZ_HAUSHALTE_AKTIV</th>\n",
       "      <th>...</th>\n",
       "      <th>VHN</th>\n",
       "      <th>VK_DHT4A</th>\n",
       "      <th>VK_DISTANZ</th>\n",
       "      <th>VK_ZG11</th>\n",
       "      <th>W_KEIT_KIND_HH</th>\n",
       "      <th>WOHNDAUER_2008</th>\n",
       "      <th>WOHNLAGE</th>\n",
       "      <th>ZABEOTYP</th>\n",
       "      <th>ANREDE_KZ</th>\n",
       "      <th>ALTERSKATEGORIE_GROB</th>\n",
       "    </tr>\n",
       "  </thead>\n",
       "  <tbody>\n",
       "    <tr>\n",
       "      <th>0</th>\n",
       "      <td>910215</td>\n",
       "      <td>-1</td>\n",
       "      <td>NaN</td>\n",
       "      <td>NaN</td>\n",
       "      <td>NaN</td>\n",
       "      <td>NaN</td>\n",
       "      <td>NaN</td>\n",
       "      <td>NaN</td>\n",
       "      <td>NaN</td>\n",
       "      <td>NaN</td>\n",
       "      <td>...</td>\n",
       "      <td>NaN</td>\n",
       "      <td>NaN</td>\n",
       "      <td>NaN</td>\n",
       "      <td>NaN</td>\n",
       "      <td>NaN</td>\n",
       "      <td>NaN</td>\n",
       "      <td>NaN</td>\n",
       "      <td>3</td>\n",
       "      <td>1</td>\n",
       "      <td>2</td>\n",
       "    </tr>\n",
       "    <tr>\n",
       "      <th>1</th>\n",
       "      <td>910220</td>\n",
       "      <td>-1</td>\n",
       "      <td>9.0</td>\n",
       "      <td>0.0</td>\n",
       "      <td>NaN</td>\n",
       "      <td>NaN</td>\n",
       "      <td>NaN</td>\n",
       "      <td>NaN</td>\n",
       "      <td>21.0</td>\n",
       "      <td>11.0</td>\n",
       "      <td>...</td>\n",
       "      <td>4.0</td>\n",
       "      <td>8.0</td>\n",
       "      <td>11.0</td>\n",
       "      <td>10.0</td>\n",
       "      <td>3.0</td>\n",
       "      <td>9.0</td>\n",
       "      <td>4.0</td>\n",
       "      <td>5</td>\n",
       "      <td>2</td>\n",
       "      <td>1</td>\n",
       "    </tr>\n",
       "    <tr>\n",
       "      <th>2</th>\n",
       "      <td>910225</td>\n",
       "      <td>-1</td>\n",
       "      <td>9.0</td>\n",
       "      <td>17.0</td>\n",
       "      <td>NaN</td>\n",
       "      <td>NaN</td>\n",
       "      <td>NaN</td>\n",
       "      <td>NaN</td>\n",
       "      <td>17.0</td>\n",
       "      <td>10.0</td>\n",
       "      <td>...</td>\n",
       "      <td>2.0</td>\n",
       "      <td>9.0</td>\n",
       "      <td>9.0</td>\n",
       "      <td>6.0</td>\n",
       "      <td>3.0</td>\n",
       "      <td>9.0</td>\n",
       "      <td>2.0</td>\n",
       "      <td>5</td>\n",
       "      <td>2</td>\n",
       "      <td>3</td>\n",
       "    </tr>\n",
       "    <tr>\n",
       "      <th>3</th>\n",
       "      <td>910226</td>\n",
       "      <td>2</td>\n",
       "      <td>1.0</td>\n",
       "      <td>13.0</td>\n",
       "      <td>NaN</td>\n",
       "      <td>NaN</td>\n",
       "      <td>NaN</td>\n",
       "      <td>NaN</td>\n",
       "      <td>13.0</td>\n",
       "      <td>1.0</td>\n",
       "      <td>...</td>\n",
       "      <td>0.0</td>\n",
       "      <td>7.0</td>\n",
       "      <td>10.0</td>\n",
       "      <td>11.0</td>\n",
       "      <td>NaN</td>\n",
       "      <td>9.0</td>\n",
       "      <td>7.0</td>\n",
       "      <td>3</td>\n",
       "      <td>2</td>\n",
       "      <td>4</td>\n",
       "    </tr>\n",
       "    <tr>\n",
       "      <th>4</th>\n",
       "      <td>910241</td>\n",
       "      <td>-1</td>\n",
       "      <td>1.0</td>\n",
       "      <td>20.0</td>\n",
       "      <td>NaN</td>\n",
       "      <td>NaN</td>\n",
       "      <td>NaN</td>\n",
       "      <td>NaN</td>\n",
       "      <td>14.0</td>\n",
       "      <td>3.0</td>\n",
       "      <td>...</td>\n",
       "      <td>2.0</td>\n",
       "      <td>3.0</td>\n",
       "      <td>5.0</td>\n",
       "      <td>4.0</td>\n",
       "      <td>2.0</td>\n",
       "      <td>9.0</td>\n",
       "      <td>3.0</td>\n",
       "      <td>4</td>\n",
       "      <td>1</td>\n",
       "      <td>3</td>\n",
       "    </tr>\n",
       "  </tbody>\n",
       "</table>\n",
       "<p>5 rows × 366 columns</p>\n",
       "</div>"
      ],
      "text/plain": [
       "      LNR  AGER_TYP  AKT_DAT_KL  ALTER_HH  ALTER_KIND1  ALTER_KIND2  \\\n",
       "0  910215        -1         NaN       NaN          NaN          NaN   \n",
       "1  910220        -1         9.0       0.0          NaN          NaN   \n",
       "2  910225        -1         9.0      17.0          NaN          NaN   \n",
       "3  910226         2         1.0      13.0          NaN          NaN   \n",
       "4  910241        -1         1.0      20.0          NaN          NaN   \n",
       "\n",
       "   ALTER_KIND3  ALTER_KIND4  ALTERSKATEGORIE_FEIN  ANZ_HAUSHALTE_AKTIV  \\\n",
       "0          NaN          NaN                   NaN                  NaN   \n",
       "1          NaN          NaN                  21.0                 11.0   \n",
       "2          NaN          NaN                  17.0                 10.0   \n",
       "3          NaN          NaN                  13.0                  1.0   \n",
       "4          NaN          NaN                  14.0                  3.0   \n",
       "\n",
       "          ...           VHN  VK_DHT4A  VK_DISTANZ  VK_ZG11  W_KEIT_KIND_HH  \\\n",
       "0         ...           NaN       NaN         NaN      NaN             NaN   \n",
       "1         ...           4.0       8.0        11.0     10.0             3.0   \n",
       "2         ...           2.0       9.0         9.0      6.0             3.0   \n",
       "3         ...           0.0       7.0        10.0     11.0             NaN   \n",
       "4         ...           2.0       3.0         5.0      4.0             2.0   \n",
       "\n",
       "   WOHNDAUER_2008  WOHNLAGE ZABEOTYP ANREDE_KZ ALTERSKATEGORIE_GROB  \n",
       "0             NaN       NaN        3         1                    2  \n",
       "1             9.0       4.0        5         2                    1  \n",
       "2             9.0       2.0        5         2                    3  \n",
       "3             9.0       7.0        3         2                    4  \n",
       "4             9.0       3.0        4         1                    3  \n",
       "\n",
       "[5 rows x 366 columns]"
      ]
     },
     "execution_count": 4,
     "metadata": {},
     "output_type": "execute_result"
    }
   ],
   "source": [
    "print(azdias.shape)\n",
    "azdias.head()"
   ]
  },
  {
   "cell_type": "code",
   "execution_count": 5,
   "metadata": {},
   "outputs": [
    {
     "name": "stdout",
     "output_type": "stream",
     "text": [
      "<class 'pandas.core.frame.DataFrame'>\n",
      "RangeIndex: 891221 entries, 0 to 891220\n",
      "Columns: 366 entries, LNR to ALTERSKATEGORIE_GROB\n",
      "dtypes: float64(267), int64(93), object(6)\n",
      "memory usage: 2.4+ GB\n"
     ]
    }
   ],
   "source": [
    "azdias.info()"
   ]
  },
  {
   "cell_type": "code",
   "execution_count": 6,
   "metadata": {},
   "outputs": [
    {
     "name": "stdout",
     "output_type": "stream",
     "text": [
      "(191652, 369)\n"
     ]
    },
    {
     "data": {
      "text/html": [
       "<div>\n",
       "<style scoped>\n",
       "    .dataframe tbody tr th:only-of-type {\n",
       "        vertical-align: middle;\n",
       "    }\n",
       "\n",
       "    .dataframe tbody tr th {\n",
       "        vertical-align: top;\n",
       "    }\n",
       "\n",
       "    .dataframe thead th {\n",
       "        text-align: right;\n",
       "    }\n",
       "</style>\n",
       "<table border=\"1\" class=\"dataframe\">\n",
       "  <thead>\n",
       "    <tr style=\"text-align: right;\">\n",
       "      <th></th>\n",
       "      <th>LNR</th>\n",
       "      <th>AGER_TYP</th>\n",
       "      <th>AKT_DAT_KL</th>\n",
       "      <th>ALTER_HH</th>\n",
       "      <th>ALTER_KIND1</th>\n",
       "      <th>ALTER_KIND2</th>\n",
       "      <th>ALTER_KIND3</th>\n",
       "      <th>ALTER_KIND4</th>\n",
       "      <th>ALTERSKATEGORIE_FEIN</th>\n",
       "      <th>ANZ_HAUSHALTE_AKTIV</th>\n",
       "      <th>...</th>\n",
       "      <th>VK_ZG11</th>\n",
       "      <th>W_KEIT_KIND_HH</th>\n",
       "      <th>WOHNDAUER_2008</th>\n",
       "      <th>WOHNLAGE</th>\n",
       "      <th>ZABEOTYP</th>\n",
       "      <th>PRODUCT_GROUP</th>\n",
       "      <th>CUSTOMER_GROUP</th>\n",
       "      <th>ONLINE_PURCHASE</th>\n",
       "      <th>ANREDE_KZ</th>\n",
       "      <th>ALTERSKATEGORIE_GROB</th>\n",
       "    </tr>\n",
       "  </thead>\n",
       "  <tbody>\n",
       "    <tr>\n",
       "      <th>0</th>\n",
       "      <td>9626</td>\n",
       "      <td>2</td>\n",
       "      <td>1.0</td>\n",
       "      <td>10.0</td>\n",
       "      <td>NaN</td>\n",
       "      <td>NaN</td>\n",
       "      <td>NaN</td>\n",
       "      <td>NaN</td>\n",
       "      <td>10.0</td>\n",
       "      <td>1.0</td>\n",
       "      <td>...</td>\n",
       "      <td>2.0</td>\n",
       "      <td>6.0</td>\n",
       "      <td>9.0</td>\n",
       "      <td>7.0</td>\n",
       "      <td>3</td>\n",
       "      <td>COSMETIC_AND_FOOD</td>\n",
       "      <td>MULTI_BUYER</td>\n",
       "      <td>0</td>\n",
       "      <td>1</td>\n",
       "      <td>4</td>\n",
       "    </tr>\n",
       "    <tr>\n",
       "      <th>1</th>\n",
       "      <td>9628</td>\n",
       "      <td>-1</td>\n",
       "      <td>9.0</td>\n",
       "      <td>11.0</td>\n",
       "      <td>NaN</td>\n",
       "      <td>NaN</td>\n",
       "      <td>NaN</td>\n",
       "      <td>NaN</td>\n",
       "      <td>NaN</td>\n",
       "      <td>NaN</td>\n",
       "      <td>...</td>\n",
       "      <td>3.0</td>\n",
       "      <td>0.0</td>\n",
       "      <td>9.0</td>\n",
       "      <td>NaN</td>\n",
       "      <td>3</td>\n",
       "      <td>FOOD</td>\n",
       "      <td>SINGLE_BUYER</td>\n",
       "      <td>0</td>\n",
       "      <td>1</td>\n",
       "      <td>4</td>\n",
       "    </tr>\n",
       "    <tr>\n",
       "      <th>2</th>\n",
       "      <td>143872</td>\n",
       "      <td>-1</td>\n",
       "      <td>1.0</td>\n",
       "      <td>6.0</td>\n",
       "      <td>NaN</td>\n",
       "      <td>NaN</td>\n",
       "      <td>NaN</td>\n",
       "      <td>NaN</td>\n",
       "      <td>0.0</td>\n",
       "      <td>1.0</td>\n",
       "      <td>...</td>\n",
       "      <td>11.0</td>\n",
       "      <td>6.0</td>\n",
       "      <td>9.0</td>\n",
       "      <td>2.0</td>\n",
       "      <td>3</td>\n",
       "      <td>COSMETIC_AND_FOOD</td>\n",
       "      <td>MULTI_BUYER</td>\n",
       "      <td>0</td>\n",
       "      <td>2</td>\n",
       "      <td>4</td>\n",
       "    </tr>\n",
       "    <tr>\n",
       "      <th>3</th>\n",
       "      <td>143873</td>\n",
       "      <td>1</td>\n",
       "      <td>1.0</td>\n",
       "      <td>8.0</td>\n",
       "      <td>NaN</td>\n",
       "      <td>NaN</td>\n",
       "      <td>NaN</td>\n",
       "      <td>NaN</td>\n",
       "      <td>8.0</td>\n",
       "      <td>0.0</td>\n",
       "      <td>...</td>\n",
       "      <td>2.0</td>\n",
       "      <td>NaN</td>\n",
       "      <td>9.0</td>\n",
       "      <td>7.0</td>\n",
       "      <td>1</td>\n",
       "      <td>COSMETIC</td>\n",
       "      <td>MULTI_BUYER</td>\n",
       "      <td>0</td>\n",
       "      <td>1</td>\n",
       "      <td>4</td>\n",
       "    </tr>\n",
       "    <tr>\n",
       "      <th>4</th>\n",
       "      <td>143874</td>\n",
       "      <td>-1</td>\n",
       "      <td>1.0</td>\n",
       "      <td>20.0</td>\n",
       "      <td>NaN</td>\n",
       "      <td>NaN</td>\n",
       "      <td>NaN</td>\n",
       "      <td>NaN</td>\n",
       "      <td>14.0</td>\n",
       "      <td>7.0</td>\n",
       "      <td>...</td>\n",
       "      <td>4.0</td>\n",
       "      <td>2.0</td>\n",
       "      <td>9.0</td>\n",
       "      <td>3.0</td>\n",
       "      <td>1</td>\n",
       "      <td>FOOD</td>\n",
       "      <td>MULTI_BUYER</td>\n",
       "      <td>0</td>\n",
       "      <td>1</td>\n",
       "      <td>3</td>\n",
       "    </tr>\n",
       "  </tbody>\n",
       "</table>\n",
       "<p>5 rows × 369 columns</p>\n",
       "</div>"
      ],
      "text/plain": [
       "      LNR  AGER_TYP  AKT_DAT_KL  ALTER_HH  ALTER_KIND1  ALTER_KIND2  \\\n",
       "0    9626         2         1.0      10.0          NaN          NaN   \n",
       "1    9628        -1         9.0      11.0          NaN          NaN   \n",
       "2  143872        -1         1.0       6.0          NaN          NaN   \n",
       "3  143873         1         1.0       8.0          NaN          NaN   \n",
       "4  143874        -1         1.0      20.0          NaN          NaN   \n",
       "\n",
       "   ALTER_KIND3  ALTER_KIND4  ALTERSKATEGORIE_FEIN  ANZ_HAUSHALTE_AKTIV  \\\n",
       "0          NaN          NaN                  10.0                  1.0   \n",
       "1          NaN          NaN                   NaN                  NaN   \n",
       "2          NaN          NaN                   0.0                  1.0   \n",
       "3          NaN          NaN                   8.0                  0.0   \n",
       "4          NaN          NaN                  14.0                  7.0   \n",
       "\n",
       "          ...           VK_ZG11  W_KEIT_KIND_HH  WOHNDAUER_2008  WOHNLAGE  \\\n",
       "0         ...               2.0             6.0             9.0       7.0   \n",
       "1         ...               3.0             0.0             9.0       NaN   \n",
       "2         ...              11.0             6.0             9.0       2.0   \n",
       "3         ...               2.0             NaN             9.0       7.0   \n",
       "4         ...               4.0             2.0             9.0       3.0   \n",
       "\n",
       "   ZABEOTYP      PRODUCT_GROUP  CUSTOMER_GROUP ONLINE_PURCHASE ANREDE_KZ  \\\n",
       "0         3  COSMETIC_AND_FOOD     MULTI_BUYER               0         1   \n",
       "1         3               FOOD    SINGLE_BUYER               0         1   \n",
       "2         3  COSMETIC_AND_FOOD     MULTI_BUYER               0         2   \n",
       "3         1           COSMETIC     MULTI_BUYER               0         1   \n",
       "4         1               FOOD     MULTI_BUYER               0         1   \n",
       "\n",
       "  ALTERSKATEGORIE_GROB  \n",
       "0                    4  \n",
       "1                    4  \n",
       "2                    4  \n",
       "3                    4  \n",
       "4                    3  \n",
       "\n",
       "[5 rows x 369 columns]"
      ]
     },
     "execution_count": 6,
     "metadata": {},
     "output_type": "execute_result"
    }
   ],
   "source": [
    "print(customers.shape)\n",
    "customers.head()"
   ]
  },
  {
   "cell_type": "code",
   "execution_count": 7,
   "metadata": {},
   "outputs": [
    {
     "name": "stdout",
     "output_type": "stream",
     "text": [
      "<class 'pandas.core.frame.DataFrame'>\n",
      "RangeIndex: 191652 entries, 0 to 191651\n",
      "Columns: 369 entries, LNR to ALTERSKATEGORIE_GROB\n",
      "dtypes: float64(267), int64(94), object(8)\n",
      "memory usage: 539.5+ MB\n"
     ]
    }
   ],
   "source": [
    "customers.info()"
   ]
  },
  {
   "cell_type": "code",
   "execution_count": 8,
   "metadata": {},
   "outputs": [],
   "source": [
    "azdias_1 = azdias.loc[:100000]\n",
    "azdias_2 = azdias.loc[100001:200000]\n",
    "azdias_3 = azdias.loc[200001:300000]\n",
    "azdias_4 = azdias.loc[300001:400000]\n",
    "azdias_5 = azdias.loc[400001:500000]\n",
    "azdias_6 = azdias.loc[500001:600000]\n",
    "azdias_7 = azdias.loc[600001:700000]\n",
    "azdias_8 = azdias.loc[700001:800000]\n",
    "azdias_9 = azdias.loc[800001:]"
   ]
  },
  {
   "cell_type": "markdown",
   "metadata": {},
   "source": [
    "## Part 1: Customer Segmentation Report\n",
    "\n",
    "The main bulk of your analysis will come in this part of the project. Here, you should use unsupervised learning techniques to describe the relationship between the demographics of the company's existing customers and the general population of Germany. By the end of this part, you should be able to describe parts of the general population that are more likely to be part of the mail-order company's main customer base, and which parts of the general population are less so."
   ]
  },
  {
   "cell_type": "markdown",
   "metadata": {},
   "source": [
    "**Assessing missing data:**"
   ]
  },
  {
   "cell_type": "code",
   "execution_count": 9,
   "metadata": {},
   "outputs": [
    {
     "data": {
      "text/html": [
       "<div>\n",
       "<style scoped>\n",
       "    .dataframe tbody tr th:only-of-type {\n",
       "        vertical-align: middle;\n",
       "    }\n",
       "\n",
       "    .dataframe tbody tr th {\n",
       "        vertical-align: top;\n",
       "    }\n",
       "\n",
       "    .dataframe thead th {\n",
       "        text-align: right;\n",
       "    }\n",
       "</style>\n",
       "<table border=\"1\" class=\"dataframe\">\n",
       "  <thead>\n",
       "    <tr style=\"text-align: right;\">\n",
       "      <th></th>\n",
       "      <th>attribute</th>\n",
       "      <th>information_level</th>\n",
       "      <th>type</th>\n",
       "      <th>missing_or_unknown</th>\n",
       "    </tr>\n",
       "  </thead>\n",
       "  <tbody>\n",
       "    <tr>\n",
       "      <th>0</th>\n",
       "      <td>AGER_TYP</td>\n",
       "      <td>person</td>\n",
       "      <td>categorical</td>\n",
       "      <td>[-1,0]</td>\n",
       "    </tr>\n",
       "    <tr>\n",
       "      <th>1</th>\n",
       "      <td>ALTERSKATEGORIE_GROB</td>\n",
       "      <td>person</td>\n",
       "      <td>ordinal</td>\n",
       "      <td>[-1,0,9]</td>\n",
       "    </tr>\n",
       "    <tr>\n",
       "      <th>2</th>\n",
       "      <td>ANREDE_KZ</td>\n",
       "      <td>person</td>\n",
       "      <td>categorical</td>\n",
       "      <td>[-1,0]</td>\n",
       "    </tr>\n",
       "    <tr>\n",
       "      <th>3</th>\n",
       "      <td>CJT_GESAMTTYP</td>\n",
       "      <td>person</td>\n",
       "      <td>categorical</td>\n",
       "      <td>[0]</td>\n",
       "    </tr>\n",
       "    <tr>\n",
       "      <th>4</th>\n",
       "      <td>FINANZ_MINIMALIST</td>\n",
       "      <td>person</td>\n",
       "      <td>ordinal</td>\n",
       "      <td>[-1]</td>\n",
       "    </tr>\n",
       "  </tbody>\n",
       "</table>\n",
       "</div>"
      ],
      "text/plain": [
       "              attribute information_level         type missing_or_unknown\n",
       "0              AGER_TYP            person  categorical             [-1,0]\n",
       "1  ALTERSKATEGORIE_GROB            person      ordinal           [-1,0,9]\n",
       "2             ANREDE_KZ            person  categorical             [-1,0]\n",
       "3         CJT_GESAMTTYP            person  categorical                [0]\n",
       "4     FINANZ_MINIMALIST            person      ordinal               [-1]"
      ]
     },
     "execution_count": 9,
     "metadata": {},
     "output_type": "execute_result"
    }
   ],
   "source": [
    "# Load in the feature summary file\n",
    "feat_info = pd.read_csv('AZDIAS_Feature_Summary.csv', sep=';')\n",
    "feat_info.head()"
   ]
  },
  {
   "cell_type": "code",
   "execution_count": 10,
   "metadata": {},
   "outputs": [],
   "source": [
    "feat_info.drop(['information_level'], axis=1, inplace=True)"
   ]
  },
  {
   "cell_type": "code",
   "execution_count": 11,
   "metadata": {},
   "outputs": [],
   "source": [
    "missing_or_unknown = []\n",
    "for value in feat_info['missing_or_unknown']:\n",
    "    value = str(value)\n",
    "    list_value = value[1:-1].split(',')\n",
    "    missing_or_unknown.append(list_value)\n",
    "feat_info['missing_or_unknown'] = missing_or_unknown"
   ]
  },
  {
   "cell_type": "code",
   "execution_count": 12,
   "metadata": {},
   "outputs": [],
   "source": [
    "def missing_to_nan(df1, df2):\n",
    "    for row in df2['attribute']:\n",
    "        if row in df1.columns:\n",
    "            na_map = df2.loc[df2['attribute'] == row, 'missing_or_unknown'].iloc[0]\n",
    "            na_idx = df1.loc[:, row].isin(na_map)\n",
    "            df1.loc[na_idx, row] = np.nan\n",
    "        else:\n",
    "            continue\n",
    "    return df1"
   ]
  },
  {
   "cell_type": "code",
   "execution_count": 13,
   "metadata": {},
   "outputs": [
    {
     "name": "stderr",
     "output_type": "stream",
     "text": [
      "/opt/conda/lib/python3.6/site-packages/pandas/core/indexing.py:543: SettingWithCopyWarning: \n",
      "A value is trying to be set on a copy of a slice from a DataFrame.\n",
      "Try using .loc[row_indexer,col_indexer] = value instead\n",
      "\n",
      "See the caveats in the documentation: http://pandas.pydata.org/pandas-docs/stable/indexing.html#indexing-view-versus-copy\n",
      "  self.obj[item] = s\n"
     ]
    }
   ],
   "source": [
    "azdias_1 = missing_to_nan(azdias_1, feat_info)"
   ]
  },
  {
   "cell_type": "code",
   "execution_count": 14,
   "metadata": {},
   "outputs": [
    {
     "name": "stderr",
     "output_type": "stream",
     "text": [
      "/opt/conda/lib/python3.6/site-packages/pandas/core/indexing.py:543: SettingWithCopyWarning: \n",
      "A value is trying to be set on a copy of a slice from a DataFrame.\n",
      "Try using .loc[row_indexer,col_indexer] = value instead\n",
      "\n",
      "See the caveats in the documentation: http://pandas.pydata.org/pandas-docs/stable/indexing.html#indexing-view-versus-copy\n",
      "  self.obj[item] = s\n"
     ]
    }
   ],
   "source": [
    "azdias_2 = missing_to_nan(azdias_2, feat_info)"
   ]
  },
  {
   "cell_type": "code",
   "execution_count": 15,
   "metadata": {
    "scrolled": true
   },
   "outputs": [
    {
     "name": "stderr",
     "output_type": "stream",
     "text": [
      "/opt/conda/lib/python3.6/site-packages/pandas/core/indexing.py:543: SettingWithCopyWarning: \n",
      "A value is trying to be set on a copy of a slice from a DataFrame.\n",
      "Try using .loc[row_indexer,col_indexer] = value instead\n",
      "\n",
      "See the caveats in the documentation: http://pandas.pydata.org/pandas-docs/stable/indexing.html#indexing-view-versus-copy\n",
      "  self.obj[item] = s\n"
     ]
    }
   ],
   "source": [
    "azdias_3 = missing_to_nan(azdias_3, feat_info)"
   ]
  },
  {
   "cell_type": "code",
   "execution_count": 16,
   "metadata": {},
   "outputs": [
    {
     "name": "stderr",
     "output_type": "stream",
     "text": [
      "/opt/conda/lib/python3.6/site-packages/pandas/core/indexing.py:543: SettingWithCopyWarning: \n",
      "A value is trying to be set on a copy of a slice from a DataFrame.\n",
      "Try using .loc[row_indexer,col_indexer] = value instead\n",
      "\n",
      "See the caveats in the documentation: http://pandas.pydata.org/pandas-docs/stable/indexing.html#indexing-view-versus-copy\n",
      "  self.obj[item] = s\n"
     ]
    }
   ],
   "source": [
    "azdias_4 = missing_to_nan(azdias_4, feat_info)"
   ]
  },
  {
   "cell_type": "code",
   "execution_count": 17,
   "metadata": {},
   "outputs": [
    {
     "name": "stderr",
     "output_type": "stream",
     "text": [
      "/opt/conda/lib/python3.6/site-packages/pandas/core/indexing.py:543: SettingWithCopyWarning: \n",
      "A value is trying to be set on a copy of a slice from a DataFrame.\n",
      "Try using .loc[row_indexer,col_indexer] = value instead\n",
      "\n",
      "See the caveats in the documentation: http://pandas.pydata.org/pandas-docs/stable/indexing.html#indexing-view-versus-copy\n",
      "  self.obj[item] = s\n"
     ]
    }
   ],
   "source": [
    "azdias_5 = missing_to_nan(azdias_5, feat_info)"
   ]
  },
  {
   "cell_type": "code",
   "execution_count": 18,
   "metadata": {},
   "outputs": [
    {
     "name": "stderr",
     "output_type": "stream",
     "text": [
      "/opt/conda/lib/python3.6/site-packages/pandas/core/indexing.py:543: SettingWithCopyWarning: \n",
      "A value is trying to be set on a copy of a slice from a DataFrame.\n",
      "Try using .loc[row_indexer,col_indexer] = value instead\n",
      "\n",
      "See the caveats in the documentation: http://pandas.pydata.org/pandas-docs/stable/indexing.html#indexing-view-versus-copy\n",
      "  self.obj[item] = s\n"
     ]
    }
   ],
   "source": [
    "azdias_6 = missing_to_nan(azdias_6, feat_info)"
   ]
  },
  {
   "cell_type": "code",
   "execution_count": 19,
   "metadata": {},
   "outputs": [
    {
     "name": "stderr",
     "output_type": "stream",
     "text": [
      "/opt/conda/lib/python3.6/site-packages/pandas/core/indexing.py:543: SettingWithCopyWarning: \n",
      "A value is trying to be set on a copy of a slice from a DataFrame.\n",
      "Try using .loc[row_indexer,col_indexer] = value instead\n",
      "\n",
      "See the caveats in the documentation: http://pandas.pydata.org/pandas-docs/stable/indexing.html#indexing-view-versus-copy\n",
      "  self.obj[item] = s\n"
     ]
    }
   ],
   "source": [
    "azdias_7 = missing_to_nan(azdias_7, feat_info)"
   ]
  },
  {
   "cell_type": "code",
   "execution_count": 20,
   "metadata": {},
   "outputs": [
    {
     "name": "stderr",
     "output_type": "stream",
     "text": [
      "/opt/conda/lib/python3.6/site-packages/pandas/core/indexing.py:543: SettingWithCopyWarning: \n",
      "A value is trying to be set on a copy of a slice from a DataFrame.\n",
      "Try using .loc[row_indexer,col_indexer] = value instead\n",
      "\n",
      "See the caveats in the documentation: http://pandas.pydata.org/pandas-docs/stable/indexing.html#indexing-view-versus-copy\n",
      "  self.obj[item] = s\n"
     ]
    }
   ],
   "source": [
    "azdias_8 = missing_to_nan(azdias_8, feat_info)"
   ]
  },
  {
   "cell_type": "code",
   "execution_count": 21,
   "metadata": {},
   "outputs": [
    {
     "name": "stderr",
     "output_type": "stream",
     "text": [
      "/opt/conda/lib/python3.6/site-packages/pandas/core/indexing.py:543: SettingWithCopyWarning: \n",
      "A value is trying to be set on a copy of a slice from a DataFrame.\n",
      "Try using .loc[row_indexer,col_indexer] = value instead\n",
      "\n",
      "See the caveats in the documentation: http://pandas.pydata.org/pandas-docs/stable/indexing.html#indexing-view-versus-copy\n",
      "  self.obj[item] = s\n"
     ]
    }
   ],
   "source": [
    "azdias_9 = missing_to_nan(azdias_9, feat_info)"
   ]
  },
  {
   "cell_type": "code",
   "execution_count": 22,
   "metadata": {},
   "outputs": [],
   "source": [
    "azdias = pd.concat([azdias_1, azdias_2, azdias_3, azdias_4, azdias_5, azdias_6, azdias_7, azdias_8, azdias_9])"
   ]
  },
  {
   "cell_type": "markdown",
   "metadata": {},
   "source": [
    "**Load of the DIAS Attributes dataset, useful to get the remaining unknown attributes or without transactions:**"
   ]
  },
  {
   "cell_type": "code",
   "execution_count": 23,
   "metadata": {},
   "outputs": [
    {
     "data": {
      "text/html": [
       "<div>\n",
       "<style scoped>\n",
       "    .dataframe tbody tr th:only-of-type {\n",
       "        vertical-align: middle;\n",
       "    }\n",
       "\n",
       "    .dataframe tbody tr th {\n",
       "        vertical-align: top;\n",
       "    }\n",
       "\n",
       "    .dataframe thead th {\n",
       "        text-align: right;\n",
       "    }\n",
       "</style>\n",
       "<table border=\"1\" class=\"dataframe\">\n",
       "  <thead>\n",
       "    <tr style=\"text-align: right;\">\n",
       "      <th></th>\n",
       "      <th>Unnamed: 0</th>\n",
       "      <th>Attribute</th>\n",
       "      <th>Description</th>\n",
       "      <th>Value</th>\n",
       "      <th>Meaning</th>\n",
       "    </tr>\n",
       "  </thead>\n",
       "  <tbody>\n",
       "    <tr>\n",
       "      <th>0</th>\n",
       "      <td>NaN</td>\n",
       "      <td>AGER_TYP</td>\n",
       "      <td>best-ager typology</td>\n",
       "      <td>-1</td>\n",
       "      <td>unknown</td>\n",
       "    </tr>\n",
       "    <tr>\n",
       "      <th>1</th>\n",
       "      <td>NaN</td>\n",
       "      <td>NaN</td>\n",
       "      <td>NaN</td>\n",
       "      <td>0</td>\n",
       "      <td>no classification possible</td>\n",
       "    </tr>\n",
       "    <tr>\n",
       "      <th>2</th>\n",
       "      <td>NaN</td>\n",
       "      <td>NaN</td>\n",
       "      <td>NaN</td>\n",
       "      <td>1</td>\n",
       "      <td>passive elderly</td>\n",
       "    </tr>\n",
       "    <tr>\n",
       "      <th>3</th>\n",
       "      <td>NaN</td>\n",
       "      <td>NaN</td>\n",
       "      <td>NaN</td>\n",
       "      <td>2</td>\n",
       "      <td>cultural elderly</td>\n",
       "    </tr>\n",
       "    <tr>\n",
       "      <th>4</th>\n",
       "      <td>NaN</td>\n",
       "      <td>NaN</td>\n",
       "      <td>NaN</td>\n",
       "      <td>3</td>\n",
       "      <td>experience-driven elderly</td>\n",
       "    </tr>\n",
       "  </tbody>\n",
       "</table>\n",
       "</div>"
      ],
      "text/plain": [
       "   Unnamed: 0 Attribute         Description Value                     Meaning\n",
       "0         NaN  AGER_TYP  best-ager typology    -1                     unknown\n",
       "1         NaN       NaN                 NaN     0  no classification possible\n",
       "2         NaN       NaN                 NaN     1             passive elderly\n",
       "3         NaN       NaN                 NaN     2            cultural elderly\n",
       "4         NaN       NaN                 NaN     3   experience-driven elderly"
      ]
     },
     "execution_count": 23,
     "metadata": {},
     "output_type": "execute_result"
    }
   ],
   "source": [
    "# Laod DIAS Attributes\n",
    "dias_attributes = pd.read_excel('DIAS Attributes - Values 2017.xlsx', skiprows=[0])\n",
    "dias_attributes.head()"
   ]
  },
  {
   "cell_type": "code",
   "execution_count": 24,
   "metadata": {},
   "outputs": [
    {
     "data": {
      "text/html": [
       "<div>\n",
       "<style scoped>\n",
       "    .dataframe tbody tr th:only-of-type {\n",
       "        vertical-align: middle;\n",
       "    }\n",
       "\n",
       "    .dataframe tbody tr th {\n",
       "        vertical-align: top;\n",
       "    }\n",
       "\n",
       "    .dataframe thead th {\n",
       "        text-align: right;\n",
       "    }\n",
       "</style>\n",
       "<table border=\"1\" class=\"dataframe\">\n",
       "  <thead>\n",
       "    <tr style=\"text-align: right;\">\n",
       "      <th></th>\n",
       "      <th>Attribute</th>\n",
       "      <th>Description</th>\n",
       "      <th>Value</th>\n",
       "      <th>Meaning</th>\n",
       "    </tr>\n",
       "  </thead>\n",
       "  <tbody>\n",
       "    <tr>\n",
       "      <th>0</th>\n",
       "      <td>AGER_TYP</td>\n",
       "      <td>best-ager typology</td>\n",
       "      <td>-1</td>\n",
       "      <td>unknown</td>\n",
       "    </tr>\n",
       "    <tr>\n",
       "      <th>5</th>\n",
       "      <td>ALTERSKATEGORIE_GROB</td>\n",
       "      <td>age classification through prename analysis</td>\n",
       "      <td>-1, 0</td>\n",
       "      <td>unknown</td>\n",
       "    </tr>\n",
       "    <tr>\n",
       "      <th>11</th>\n",
       "      <td>ALTER_HH</td>\n",
       "      <td>main age within the household</td>\n",
       "      <td>0</td>\n",
       "      <td>unknown / no main age detectable</td>\n",
       "    </tr>\n",
       "    <tr>\n",
       "      <th>33</th>\n",
       "      <td>ANREDE_KZ</td>\n",
       "      <td>gender</td>\n",
       "      <td>-1, 0</td>\n",
       "      <td>unknown</td>\n",
       "    </tr>\n",
       "    <tr>\n",
       "      <th>36</th>\n",
       "      <td>ANZ_HAUSHALTE_AKTIV</td>\n",
       "      <td>number of households in the building</td>\n",
       "      <td>…</td>\n",
       "      <td>numeric value (typically coded from 1-10)</td>\n",
       "    </tr>\n",
       "  </tbody>\n",
       "</table>\n",
       "</div>"
      ],
      "text/plain": [
       "               Attribute                                   Description  Value  \\\n",
       "0               AGER_TYP                            best-ager typology     -1   \n",
       "5   ALTERSKATEGORIE_GROB  age classification through prename analysis   -1, 0   \n",
       "11              ALTER_HH                 main age within the household      0   \n",
       "33             ANREDE_KZ                                        gender  -1, 0   \n",
       "36   ANZ_HAUSHALTE_AKTIV          number of households in the building      …   \n",
       "\n",
       "                                      Meaning  \n",
       "0                                     unknown  \n",
       "5                                     unknown  \n",
       "11           unknown / no main age detectable  \n",
       "33                                    unknown  \n",
       "36  numeric value (typically coded from 1-10)  "
      ]
     },
     "execution_count": 24,
     "metadata": {},
     "output_type": "execute_result"
    }
   ],
   "source": [
    "dias_attributes.drop(['Unnamed: 0'], axis=1, inplace=True)\n",
    "dias_attributes = dias_attributes[dias_attributes['Attribute'].isnull() == False]\n",
    "dias_attributes.head()"
   ]
  },
  {
   "cell_type": "code",
   "execution_count": 25,
   "metadata": {},
   "outputs": [
    {
     "data": {
      "text/html": [
       "<div>\n",
       "<style scoped>\n",
       "    .dataframe tbody tr th:only-of-type {\n",
       "        vertical-align: middle;\n",
       "    }\n",
       "\n",
       "    .dataframe tbody tr th {\n",
       "        vertical-align: top;\n",
       "    }\n",
       "\n",
       "    .dataframe thead th {\n",
       "        text-align: right;\n",
       "    }\n",
       "</style>\n",
       "<table border=\"1\" class=\"dataframe\">\n",
       "  <thead>\n",
       "    <tr style=\"text-align: right;\">\n",
       "      <th></th>\n",
       "      <th>Attribute</th>\n",
       "      <th>Description</th>\n",
       "      <th>Value</th>\n",
       "      <th>Meaning</th>\n",
       "    </tr>\n",
       "  </thead>\n",
       "  <tbody>\n",
       "    <tr>\n",
       "      <th>48</th>\n",
       "      <td>BIP_FLAG</td>\n",
       "      <td>business-flag indicating companies in the buil...</td>\n",
       "      <td>-1</td>\n",
       "      <td>unknown</td>\n",
       "    </tr>\n",
       "    <tr>\n",
       "      <th>105</th>\n",
       "      <td>CAMEO_DEUINTL_2015</td>\n",
       "      <td>CAMEO classification 2015 - international typo...</td>\n",
       "      <td>-1</td>\n",
       "      <td>unknown</td>\n",
       "    </tr>\n",
       "    <tr>\n",
       "      <th>138</th>\n",
       "      <td>D19_BANKEN_ANZ_12</td>\n",
       "      <td>transaction activity BANKS in the last 12 months</td>\n",
       "      <td>0</td>\n",
       "      <td>no transactions known</td>\n",
       "    </tr>\n",
       "    <tr>\n",
       "      <th>145</th>\n",
       "      <td>D19_BANKEN_ANZ_24</td>\n",
       "      <td>transaction activity BANKS in the last 24 months</td>\n",
       "      <td>0</td>\n",
       "      <td>no transactions known</td>\n",
       "    </tr>\n",
       "    <tr>\n",
       "      <th>152</th>\n",
       "      <td>D19_BANKEN_DATUM</td>\n",
       "      <td>actuality of the last transaction for the segm...</td>\n",
       "      <td>1</td>\n",
       "      <td>highest activity within the last 12 months</td>\n",
       "    </tr>\n",
       "  </tbody>\n",
       "</table>\n",
       "</div>"
      ],
      "text/plain": [
       "              Attribute                                        Description  \\\n",
       "48             BIP_FLAG  business-flag indicating companies in the buil...   \n",
       "105  CAMEO_DEUINTL_2015  CAMEO classification 2015 - international typo...   \n",
       "138   D19_BANKEN_ANZ_12   transaction activity BANKS in the last 12 months   \n",
       "145   D19_BANKEN_ANZ_24   transaction activity BANKS in the last 24 months   \n",
       "152    D19_BANKEN_DATUM  actuality of the last transaction for the segm...   \n",
       "\n",
       "    Value                                     Meaning  \n",
       "48     -1                                     unknown  \n",
       "105    -1                                     unknown  \n",
       "138     0                       no transactions known  \n",
       "145     0                       no transactions known  \n",
       "152     1  highest activity within the last 12 months  "
      ]
     },
     "execution_count": 25,
     "metadata": {},
     "output_type": "execute_result"
    }
   ],
   "source": [
    "# We take the attributes that are not already in the feat_info dataframe \n",
    "dias_attributes = dias_attributes[dias_attributes['Attribute'].isin(feat_info['attribute']) == False]\n",
    "dias_attributes.head()"
   ]
  },
  {
   "cell_type": "code",
   "execution_count": 26,
   "metadata": {},
   "outputs": [
    {
     "data": {
      "text/plain": [
       "unknown                                             172\n",
       "no transaction known                                 34\n",
       "highest activity within the last 12 months           12\n",
       "no transactions known                                10\n",
       "no Online-transactions within the last 12 months      3\n",
       "Universal                                             1\n",
       "very low car quote                                    1\n",
       "Name: Meaning, dtype: int64"
      ]
     },
     "execution_count": 26,
     "metadata": {},
     "output_type": "execute_result"
    }
   ],
   "source": [
    "dias_attributes['Meaning'].value_counts()"
   ]
  },
  {
   "cell_type": "markdown",
   "metadata": {},
   "source": [
    "**DIAS with unknown meaning or no transactions:**"
   ]
  },
  {
   "cell_type": "code",
   "execution_count": 27,
   "metadata": {},
   "outputs": [
    {
     "data": {
      "text/html": [
       "<div>\n",
       "<style scoped>\n",
       "    .dataframe tbody tr th:only-of-type {\n",
       "        vertical-align: middle;\n",
       "    }\n",
       "\n",
       "    .dataframe tbody tr th {\n",
       "        vertical-align: top;\n",
       "    }\n",
       "\n",
       "    .dataframe thead th {\n",
       "        text-align: right;\n",
       "    }\n",
       "</style>\n",
       "<table border=\"1\" class=\"dataframe\">\n",
       "  <thead>\n",
       "    <tr style=\"text-align: right;\">\n",
       "      <th></th>\n",
       "      <th>Attribute</th>\n",
       "      <th>Description</th>\n",
       "      <th>Value</th>\n",
       "      <th>Meaning</th>\n",
       "    </tr>\n",
       "  </thead>\n",
       "  <tbody>\n",
       "    <tr>\n",
       "      <th>138</th>\n",
       "      <td>D19_BANKEN_ANZ_12</td>\n",
       "      <td>transaction activity BANKS in the last 12 months</td>\n",
       "      <td>0</td>\n",
       "      <td>no transactions known</td>\n",
       "    </tr>\n",
       "    <tr>\n",
       "      <th>145</th>\n",
       "      <td>D19_BANKEN_ANZ_24</td>\n",
       "      <td>transaction activity BANKS in the last 24 months</td>\n",
       "      <td>0</td>\n",
       "      <td>no transactions known</td>\n",
       "    </tr>\n",
       "    <tr>\n",
       "      <th>305</th>\n",
       "      <td>D19_GESAMT_ANZ_12</td>\n",
       "      <td>transaction activity TOTAL POOL in the last 12...</td>\n",
       "      <td>0</td>\n",
       "      <td>no transactions known</td>\n",
       "    </tr>\n",
       "    <tr>\n",
       "      <th>312</th>\n",
       "      <td>D19_GESAMT_ANZ_24</td>\n",
       "      <td>transaction activity TOTAL POOL in the last 24...</td>\n",
       "      <td>0</td>\n",
       "      <td>no transactions known</td>\n",
       "    </tr>\n",
       "    <tr>\n",
       "      <th>478</th>\n",
       "      <td>D19_TELKO_ANZ_12</td>\n",
       "      <td>transaction activity TELCO in the last 12 months</td>\n",
       "      <td>0</td>\n",
       "      <td>no transactions known</td>\n",
       "    </tr>\n",
       "  </tbody>\n",
       "</table>\n",
       "</div>"
      ],
      "text/plain": [
       "             Attribute                                        Description  \\\n",
       "138  D19_BANKEN_ANZ_12   transaction activity BANKS in the last 12 months   \n",
       "145  D19_BANKEN_ANZ_24   transaction activity BANKS in the last 24 months   \n",
       "305  D19_GESAMT_ANZ_12  transaction activity TOTAL POOL in the last 12...   \n",
       "312  D19_GESAMT_ANZ_24  transaction activity TOTAL POOL in the last 24...   \n",
       "478   D19_TELKO_ANZ_12   transaction activity TELCO in the last 12 months   \n",
       "\n",
       "    Value                Meaning  \n",
       "138     0  no transactions known  \n",
       "145     0  no transactions known  \n",
       "305     0  no transactions known  \n",
       "312     0  no transactions known  \n",
       "478     0  no transactions known  "
      ]
     },
     "execution_count": 27,
     "metadata": {},
     "output_type": "execute_result"
    }
   ],
   "source": [
    "missing_or_unknown_dias = dias_attributes[dias_attributes['Meaning'].isin(['unknown', \n",
    "                                                                           'no transaction known', \n",
    "                                                                           'no transactions known'])]\n",
    "missing_or_unknown_dias = missing_or_unknown_dias[missing_or_unknown_dias['Attribute'].isin(azdias.columns)]\n",
    "missing_or_unknown_dias.head()"
   ]
  },
  {
   "cell_type": "code",
   "execution_count": 28,
   "metadata": {},
   "outputs": [
    {
     "data": {
      "text/plain": [
       "-1       106\n",
       "-1, 9     58\n",
       "0         10\n",
       "Name: Value, dtype: int64"
      ]
     },
     "execution_count": 28,
     "metadata": {},
     "output_type": "execute_result"
    }
   ],
   "source": [
    "missing_or_unknown_dias['Value'].value_counts()"
   ]
  },
  {
   "cell_type": "code",
   "execution_count": 29,
   "metadata": {},
   "outputs": [
    {
     "data": {
      "text/plain": [
       "float64    164\n",
       "int64       10\n",
       "dtype: int64"
      ]
     },
     "execution_count": 29,
     "metadata": {},
     "output_type": "execute_result"
    }
   ],
   "source": [
    "azdias[azdias.columns[azdias.columns.isin(missing_or_unknown_dias['Attribute'])]].dtypes.value_counts()"
   ]
  },
  {
   "cell_type": "code",
   "execution_count": 30,
   "metadata": {},
   "outputs": [],
   "source": [
    "missing_or_unknown_dias['type'] = 'ordinal'"
   ]
  },
  {
   "cell_type": "code",
   "execution_count": 31,
   "metadata": {},
   "outputs": [
    {
     "data": {
      "text/html": [
       "<div>\n",
       "<style scoped>\n",
       "    .dataframe tbody tr th:only-of-type {\n",
       "        vertical-align: middle;\n",
       "    }\n",
       "\n",
       "    .dataframe tbody tr th {\n",
       "        vertical-align: top;\n",
       "    }\n",
       "\n",
       "    .dataframe thead th {\n",
       "        text-align: right;\n",
       "    }\n",
       "</style>\n",
       "<table border=\"1\" class=\"dataframe\">\n",
       "  <thead>\n",
       "    <tr style=\"text-align: right;\">\n",
       "      <th></th>\n",
       "      <th>attribute</th>\n",
       "      <th>type</th>\n",
       "      <th>missing_or_unknown</th>\n",
       "    </tr>\n",
       "  </thead>\n",
       "  <tbody>\n",
       "    <tr>\n",
       "      <th>138</th>\n",
       "      <td>D19_BANKEN_ANZ_12</td>\n",
       "      <td>ordinal</td>\n",
       "      <td>[0]</td>\n",
       "    </tr>\n",
       "    <tr>\n",
       "      <th>145</th>\n",
       "      <td>D19_BANKEN_ANZ_24</td>\n",
       "      <td>ordinal</td>\n",
       "      <td>[0]</td>\n",
       "    </tr>\n",
       "    <tr>\n",
       "      <th>305</th>\n",
       "      <td>D19_GESAMT_ANZ_12</td>\n",
       "      <td>ordinal</td>\n",
       "      <td>[0]</td>\n",
       "    </tr>\n",
       "    <tr>\n",
       "      <th>312</th>\n",
       "      <td>D19_GESAMT_ANZ_24</td>\n",
       "      <td>ordinal</td>\n",
       "      <td>[0]</td>\n",
       "    </tr>\n",
       "    <tr>\n",
       "      <th>478</th>\n",
       "      <td>D19_TELKO_ANZ_12</td>\n",
       "      <td>ordinal</td>\n",
       "      <td>[0]</td>\n",
       "    </tr>\n",
       "  </tbody>\n",
       "</table>\n",
       "</div>"
      ],
      "text/plain": [
       "             attribute     type missing_or_unknown\n",
       "138  D19_BANKEN_ANZ_12  ordinal                [0]\n",
       "145  D19_BANKEN_ANZ_24  ordinal                [0]\n",
       "305  D19_GESAMT_ANZ_12  ordinal                [0]\n",
       "312  D19_GESAMT_ANZ_24  ordinal                [0]\n",
       "478   D19_TELKO_ANZ_12  ordinal                [0]"
      ]
     },
     "execution_count": 31,
     "metadata": {},
     "output_type": "execute_result"
    }
   ],
   "source": [
    "# Make a dataframe of features proprieties\n",
    "missing_or_unknown_dias['missing_or_unknown'] = missing_or_unknown_dias['Value'].apply(lambda x: [x])\n",
    "missing_or_unknown_dias.drop(['Description', 'Value', 'Meaning'], axis=1, inplace=True)\n",
    "missing_or_unknown_dias.columns = ['attribute', 'type', 'missing_or_unknown']\n",
    "missing_or_unknown_dias.head()"
   ]
  },
  {
   "cell_type": "code",
   "execution_count": 32,
   "metadata": {},
   "outputs": [],
   "source": [
    "missing_or_unknown = []\n",
    "for value in missing_or_unknown_dias['missing_or_unknown']:\n",
    "    value = str(value)\n",
    "    list_value = value[1:-1].split(',')\n",
    "    missing_or_unknown.append(list_value)\n",
    "missing_or_unknown_dias['missing_or_unknown'] = missing_or_unknown"
   ]
  },
  {
   "cell_type": "code",
   "execution_count": 33,
   "metadata": {
    "scrolled": true
   },
   "outputs": [],
   "source": [
    "azdias_1 = missing_to_nan(azdias_1, missing_or_unknown_dias)"
   ]
  },
  {
   "cell_type": "code",
   "execution_count": 34,
   "metadata": {},
   "outputs": [],
   "source": [
    "azdias_2 = missing_to_nan(azdias_2, missing_or_unknown_dias)"
   ]
  },
  {
   "cell_type": "code",
   "execution_count": 35,
   "metadata": {},
   "outputs": [],
   "source": [
    "azdias_3 = missing_to_nan(azdias_3, missing_or_unknown_dias)"
   ]
  },
  {
   "cell_type": "code",
   "execution_count": 36,
   "metadata": {},
   "outputs": [],
   "source": [
    "azdias_4 = missing_to_nan(azdias_4, missing_or_unknown_dias)"
   ]
  },
  {
   "cell_type": "code",
   "execution_count": 37,
   "metadata": {},
   "outputs": [],
   "source": [
    "azdias_5 = missing_to_nan(azdias_5, missing_or_unknown_dias)"
   ]
  },
  {
   "cell_type": "code",
   "execution_count": 38,
   "metadata": {},
   "outputs": [],
   "source": [
    "azdias_6 = missing_to_nan(azdias_6, missing_or_unknown_dias)"
   ]
  },
  {
   "cell_type": "code",
   "execution_count": 39,
   "metadata": {},
   "outputs": [],
   "source": [
    "azdias_7 = missing_to_nan(azdias_7, missing_or_unknown_dias)"
   ]
  },
  {
   "cell_type": "code",
   "execution_count": 40,
   "metadata": {},
   "outputs": [],
   "source": [
    "azdias_8 = missing_to_nan(azdias_8, missing_or_unknown_dias)"
   ]
  },
  {
   "cell_type": "code",
   "execution_count": 41,
   "metadata": {},
   "outputs": [],
   "source": [
    "azdias_9 = missing_to_nan(azdias_9, missing_or_unknown_dias)"
   ]
  },
  {
   "cell_type": "code",
   "execution_count": 42,
   "metadata": {},
   "outputs": [],
   "source": [
    "azdias = pd.concat([azdias_1, azdias_2, azdias_3, azdias_4, azdias_5, azdias_6, azdias_7, azdias_8, azdias_9])"
   ]
  },
  {
   "cell_type": "markdown",
   "metadata": {},
   "source": [
    "**Complete feat_info with the remaining variables (which do not have missing or unknown values):**"
   ]
  },
  {
   "cell_type": "code",
   "execution_count": 43,
   "metadata": {},
   "outputs": [
    {
     "data": {
      "text/html": [
       "<div>\n",
       "<style scoped>\n",
       "    .dataframe tbody tr th:only-of-type {\n",
       "        vertical-align: middle;\n",
       "    }\n",
       "\n",
       "    .dataframe tbody tr th {\n",
       "        vertical-align: top;\n",
       "    }\n",
       "\n",
       "    .dataframe thead th {\n",
       "        text-align: right;\n",
       "    }\n",
       "</style>\n",
       "<table border=\"1\" class=\"dataframe\">\n",
       "  <thead>\n",
       "    <tr style=\"text-align: right;\">\n",
       "      <th></th>\n",
       "      <th>Attribute</th>\n",
       "      <th>Description</th>\n",
       "      <th>Value</th>\n",
       "      <th>Meaning</th>\n",
       "    </tr>\n",
       "  </thead>\n",
       "  <tbody>\n",
       "    <tr>\n",
       "      <th>152</th>\n",
       "      <td>D19_BANKEN_DATUM</td>\n",
       "      <td>actuality of the last transaction for the segm...</td>\n",
       "      <td>1</td>\n",
       "      <td>highest activity within the last 12 months</td>\n",
       "    </tr>\n",
       "    <tr>\n",
       "      <th>186</th>\n",
       "      <td>D19_BANKEN_OFFLINE_DATUM</td>\n",
       "      <td>actuality of the last transaction for the segm...</td>\n",
       "      <td>1</td>\n",
       "      <td>highest activity within the last 12 months</td>\n",
       "    </tr>\n",
       "    <tr>\n",
       "      <th>196</th>\n",
       "      <td>D19_BANKEN_ONLINE_DATUM</td>\n",
       "      <td>actuality of the last transaction for the segm...</td>\n",
       "      <td>1</td>\n",
       "      <td>highest activity within the last 12 months</td>\n",
       "    </tr>\n",
       "    <tr>\n",
       "      <th>206</th>\n",
       "      <td>D19_BANKEN_ONLINE_QUOTE_12</td>\n",
       "      <td>amount of online transactions within all trans...</td>\n",
       "      <td>0</td>\n",
       "      <td>no Online-transactions within the last 12 months</td>\n",
       "    </tr>\n",
       "    <tr>\n",
       "      <th>319</th>\n",
       "      <td>D19_GESAMT_DATUM</td>\n",
       "      <td>actuality of the last transaction with the com...</td>\n",
       "      <td>1</td>\n",
       "      <td>highest activity within the last 12 months</td>\n",
       "    </tr>\n",
       "  </tbody>\n",
       "</table>\n",
       "</div>"
      ],
      "text/plain": [
       "                      Attribute  \\\n",
       "152            D19_BANKEN_DATUM   \n",
       "186    D19_BANKEN_OFFLINE_DATUM   \n",
       "196     D19_BANKEN_ONLINE_DATUM   \n",
       "206  D19_BANKEN_ONLINE_QUOTE_12   \n",
       "319            D19_GESAMT_DATUM   \n",
       "\n",
       "                                           Description Value  \\\n",
       "152  actuality of the last transaction for the segm...     1   \n",
       "186  actuality of the last transaction for the segm...     1   \n",
       "196  actuality of the last transaction for the segm...     1   \n",
       "206  amount of online transactions within all trans...     0   \n",
       "319  actuality of the last transaction with the com...     1   \n",
       "\n",
       "                                              Meaning  \n",
       "152        highest activity within the last 12 months  \n",
       "186        highest activity within the last 12 months  \n",
       "196        highest activity within the last 12 months  \n",
       "206  no Online-transactions within the last 12 months  \n",
       "319        highest activity within the last 12 months  "
      ]
     },
     "execution_count": 43,
     "metadata": {},
     "output_type": "execute_result"
    }
   ],
   "source": [
    "# Investigate the rest of attributes \n",
    "remaining_dias = dias_attributes[dias_attributes['Meaning'].isin(['unknown',\n",
    "                                                                  'no transaction known',\n",
    "                                                                  'no transactions known']) == False]\n",
    "remaining_dias = remaining_dias[remaining_dias['Attribute'].isin(azdias.columns)]\n",
    "remaining_dias.head()"
   ]
  },
  {
   "cell_type": "code",
   "execution_count": 44,
   "metadata": {},
   "outputs": [
    {
     "data": {
      "text/plain": [
       "int64      12\n",
       "float64     5\n",
       "dtype: int64"
      ]
     },
     "execution_count": 44,
     "metadata": {},
     "output_type": "execute_result"
    }
   ],
   "source": [
    "azdias[azdias.columns[azdias.columns.isin(remaining_dias['Attribute'])]].dtypes.value_counts()"
   ]
  },
  {
   "cell_type": "code",
   "execution_count": 45,
   "metadata": {},
   "outputs": [],
   "source": [
    "remaining_dias['type'] = 'ordinal'"
   ]
  },
  {
   "cell_type": "code",
   "execution_count": 46,
   "metadata": {},
   "outputs": [
    {
     "data": {
      "text/html": [
       "<div>\n",
       "<style scoped>\n",
       "    .dataframe tbody tr th:only-of-type {\n",
       "        vertical-align: middle;\n",
       "    }\n",
       "\n",
       "    .dataframe tbody tr th {\n",
       "        vertical-align: top;\n",
       "    }\n",
       "\n",
       "    .dataframe thead th {\n",
       "        text-align: right;\n",
       "    }\n",
       "</style>\n",
       "<table border=\"1\" class=\"dataframe\">\n",
       "  <thead>\n",
       "    <tr style=\"text-align: right;\">\n",
       "      <th></th>\n",
       "      <th>attribute</th>\n",
       "      <th>type</th>\n",
       "      <th>missing_or_unknown</th>\n",
       "    </tr>\n",
       "  </thead>\n",
       "  <tbody>\n",
       "    <tr>\n",
       "      <th>152</th>\n",
       "      <td>D19_BANKEN_DATUM</td>\n",
       "      <td>ordinal</td>\n",
       "      <td>[]</td>\n",
       "    </tr>\n",
       "    <tr>\n",
       "      <th>186</th>\n",
       "      <td>D19_BANKEN_OFFLINE_DATUM</td>\n",
       "      <td>ordinal</td>\n",
       "      <td>[]</td>\n",
       "    </tr>\n",
       "    <tr>\n",
       "      <th>196</th>\n",
       "      <td>D19_BANKEN_ONLINE_DATUM</td>\n",
       "      <td>ordinal</td>\n",
       "      <td>[]</td>\n",
       "    </tr>\n",
       "    <tr>\n",
       "      <th>206</th>\n",
       "      <td>D19_BANKEN_ONLINE_QUOTE_12</td>\n",
       "      <td>ordinal</td>\n",
       "      <td>[]</td>\n",
       "    </tr>\n",
       "    <tr>\n",
       "      <th>319</th>\n",
       "      <td>D19_GESAMT_DATUM</td>\n",
       "      <td>ordinal</td>\n",
       "      <td>[]</td>\n",
       "    </tr>\n",
       "  </tbody>\n",
       "</table>\n",
       "</div>"
      ],
      "text/plain": [
       "                      attribute     type missing_or_unknown\n",
       "152            D19_BANKEN_DATUM  ordinal                 []\n",
       "186    D19_BANKEN_OFFLINE_DATUM  ordinal                 []\n",
       "196     D19_BANKEN_ONLINE_DATUM  ordinal                 []\n",
       "206  D19_BANKEN_ONLINE_QUOTE_12  ordinal                 []\n",
       "319            D19_GESAMT_DATUM  ordinal                 []"
      ]
     },
     "execution_count": 46,
     "metadata": {},
     "output_type": "execute_result"
    }
   ],
   "source": [
    "remaining_dias['missing_or_unknown'] = remaining_dias['Value'].apply(lambda x: list())\n",
    "remaining_dias.drop(['Description', 'Value', 'Meaning'], axis=1, inplace=True)\n",
    "remaining_dias.columns = ['attribute', 'type', 'missing_or_unknown']\n",
    "remaining_dias.head()"
   ]
  },
  {
   "cell_type": "code",
   "execution_count": 47,
   "metadata": {},
   "outputs": [],
   "source": [
    "new_feat_info = pd.concat([feat_info, missing_or_unknown_dias, remaining_dias])"
   ]
  },
  {
   "cell_type": "code",
   "execution_count": 48,
   "metadata": {},
   "outputs": [],
   "source": [
    "# azdias columns that are not in the df of feat info\n",
    "remaining_cols = azdias.columns[azdias.columns.isin(new_feat_info['attribute']) == False]"
   ]
  },
  {
   "cell_type": "code",
   "execution_count": 49,
   "metadata": {},
   "outputs": [
    {
     "data": {
      "text/plain": [
       "float64    49\n",
       "int64      39\n",
       "object      2\n",
       "dtype: int64"
      ]
     },
     "execution_count": 49,
     "metadata": {},
     "output_type": "execute_result"
    }
   ],
   "source": [
    "azdias[remaining_cols].dtypes.value_counts()"
   ]
  },
  {
   "cell_type": "code",
   "execution_count": 50,
   "metadata": {},
   "outputs": [],
   "source": [
    "categoric_cols = azdias[remaining_cols].select_dtypes(include='object').columns.tolist()"
   ]
  },
  {
   "cell_type": "code",
   "execution_count": 51,
   "metadata": {},
   "outputs": [],
   "source": [
    "numeric_cols = azdias[remaining_cols].select_dtypes(exclude='object').columns.tolist()"
   ]
  },
  {
   "cell_type": "code",
   "execution_count": 52,
   "metadata": {},
   "outputs": [],
   "source": [
    "remaining_attrib = pd.DataFrame({'attribute': remaining_cols})"
   ]
  },
  {
   "cell_type": "code",
   "execution_count": 53,
   "metadata": {},
   "outputs": [
    {
     "data": {
      "text/plain": [
       "2"
      ]
     },
     "execution_count": 53,
     "metadata": {},
     "output_type": "execute_result"
    }
   ],
   "source": [
    "len(categoric_cols)"
   ]
  },
  {
   "cell_type": "code",
   "execution_count": 54,
   "metadata": {},
   "outputs": [
    {
     "data": {
      "text/plain": [
       "88"
      ]
     },
     "execution_count": 54,
     "metadata": {},
     "output_type": "execute_result"
    }
   ],
   "source": [
    "len(numeric_cols)"
   ]
  },
  {
   "cell_type": "code",
   "execution_count": 55,
   "metadata": {},
   "outputs": [],
   "source": [
    "types = []\n",
    "for attribute in remaining_attrib['attribute']:\n",
    "    if attribute in numeric_cols:\n",
    "        att_type = 'numeric'\n",
    "    elif attribute in categoric_cols:\n",
    "        att_type = 'categorical'\n",
    "    types.append(att_type)\n",
    "    \n",
    "remaining_attrib['type'] = types"
   ]
  },
  {
   "cell_type": "code",
   "execution_count": 56,
   "metadata": {},
   "outputs": [
    {
     "data": {
      "text/plain": [
       "numeric        88\n",
       "categorical     2\n",
       "Name: type, dtype: int64"
      ]
     },
     "execution_count": 56,
     "metadata": {},
     "output_type": "execute_result"
    }
   ],
   "source": [
    "remaining_attrib['type'].value_counts()"
   ]
  },
  {
   "cell_type": "code",
   "execution_count": 57,
   "metadata": {},
   "outputs": [
    {
     "data": {
      "text/html": [
       "<div>\n",
       "<style scoped>\n",
       "    .dataframe tbody tr th:only-of-type {\n",
       "        vertical-align: middle;\n",
       "    }\n",
       "\n",
       "    .dataframe tbody tr th {\n",
       "        vertical-align: top;\n",
       "    }\n",
       "\n",
       "    .dataframe thead th {\n",
       "        text-align: right;\n",
       "    }\n",
       "</style>\n",
       "<table border=\"1\" class=\"dataframe\">\n",
       "  <thead>\n",
       "    <tr style=\"text-align: right;\">\n",
       "      <th></th>\n",
       "      <th>attribute</th>\n",
       "      <th>type</th>\n",
       "      <th>missing_or_unknown</th>\n",
       "    </tr>\n",
       "  </thead>\n",
       "  <tbody>\n",
       "    <tr>\n",
       "      <th>0</th>\n",
       "      <td>LNR</td>\n",
       "      <td>numeric</td>\n",
       "      <td>[]</td>\n",
       "    </tr>\n",
       "    <tr>\n",
       "      <th>1</th>\n",
       "      <td>AKT_DAT_KL</td>\n",
       "      <td>numeric</td>\n",
       "      <td>[]</td>\n",
       "    </tr>\n",
       "    <tr>\n",
       "      <th>2</th>\n",
       "      <td>ALTER_KIND1</td>\n",
       "      <td>numeric</td>\n",
       "      <td>[]</td>\n",
       "    </tr>\n",
       "    <tr>\n",
       "      <th>3</th>\n",
       "      <td>ALTER_KIND2</td>\n",
       "      <td>numeric</td>\n",
       "      <td>[]</td>\n",
       "    </tr>\n",
       "    <tr>\n",
       "      <th>4</th>\n",
       "      <td>ALTER_KIND3</td>\n",
       "      <td>numeric</td>\n",
       "      <td>[]</td>\n",
       "    </tr>\n",
       "  </tbody>\n",
       "</table>\n",
       "</div>"
      ],
      "text/plain": [
       "     attribute     type missing_or_unknown\n",
       "0          LNR  numeric                 []\n",
       "1   AKT_DAT_KL  numeric                 []\n",
       "2  ALTER_KIND1  numeric                 []\n",
       "3  ALTER_KIND2  numeric                 []\n",
       "4  ALTER_KIND3  numeric                 []"
      ]
     },
     "execution_count": 57,
     "metadata": {},
     "output_type": "execute_result"
    }
   ],
   "source": [
    "remaining_attrib['missing_or_unknown'] = remaining_attrib['type'].apply(lambda x: list())\n",
    "remaining_attrib.head()"
   ]
  },
  {
   "cell_type": "code",
   "execution_count": 58,
   "metadata": {},
   "outputs": [
    {
     "name": "stdout",
     "output_type": "stream",
     "text": [
      "(366, 3)\n"
     ]
    },
    {
     "data": {
      "text/html": [
       "<div>\n",
       "<style scoped>\n",
       "    .dataframe tbody tr th:only-of-type {\n",
       "        vertical-align: middle;\n",
       "    }\n",
       "\n",
       "    .dataframe tbody tr th {\n",
       "        vertical-align: top;\n",
       "    }\n",
       "\n",
       "    .dataframe thead th {\n",
       "        text-align: right;\n",
       "    }\n",
       "</style>\n",
       "<table border=\"1\" class=\"dataframe\">\n",
       "  <thead>\n",
       "    <tr style=\"text-align: right;\">\n",
       "      <th></th>\n",
       "      <th>attribute</th>\n",
       "      <th>type</th>\n",
       "      <th>missing_or_unknown</th>\n",
       "    </tr>\n",
       "  </thead>\n",
       "  <tbody>\n",
       "    <tr>\n",
       "      <th>0</th>\n",
       "      <td>AGER_TYP</td>\n",
       "      <td>categorical</td>\n",
       "      <td>[-1, 0]</td>\n",
       "    </tr>\n",
       "    <tr>\n",
       "      <th>1</th>\n",
       "      <td>ALTERSKATEGORIE_GROB</td>\n",
       "      <td>ordinal</td>\n",
       "      <td>[-1, 0, 9]</td>\n",
       "    </tr>\n",
       "    <tr>\n",
       "      <th>2</th>\n",
       "      <td>ANREDE_KZ</td>\n",
       "      <td>categorical</td>\n",
       "      <td>[-1, 0]</td>\n",
       "    </tr>\n",
       "    <tr>\n",
       "      <th>3</th>\n",
       "      <td>CJT_GESAMTTYP</td>\n",
       "      <td>categorical</td>\n",
       "      <td>[0]</td>\n",
       "    </tr>\n",
       "    <tr>\n",
       "      <th>4</th>\n",
       "      <td>FINANZ_MINIMALIST</td>\n",
       "      <td>ordinal</td>\n",
       "      <td>[-1]</td>\n",
       "    </tr>\n",
       "  </tbody>\n",
       "</table>\n",
       "</div>"
      ],
      "text/plain": [
       "              attribute         type missing_or_unknown\n",
       "0              AGER_TYP  categorical            [-1, 0]\n",
       "1  ALTERSKATEGORIE_GROB      ordinal         [-1, 0, 9]\n",
       "2             ANREDE_KZ  categorical            [-1, 0]\n",
       "3         CJT_GESAMTTYP  categorical                [0]\n",
       "4     FINANZ_MINIMALIST      ordinal               [-1]"
      ]
     },
     "execution_count": 58,
     "metadata": {},
     "output_type": "execute_result"
    }
   ],
   "source": [
    "# Concat feat info\n",
    "new_feat_info = pd.concat([new_feat_info, remaining_attrib], ignore_index=True)\n",
    "print(new_feat_info.shape)\n",
    "new_feat_info.head()"
   ]
  },
  {
   "cell_type": "code",
   "execution_count": 61,
   "metadata": {},
   "outputs": [],
   "source": [
    "azdias = pd.read_csv('azdias.csv')"
   ]
  },
  {
   "cell_type": "code",
   "execution_count": 4,
   "metadata": {},
   "outputs": [],
   "source": [
    "new_feat_info = pd.read_csv('new_feat_info.csv')"
   ]
  },
  {
   "cell_type": "markdown",
   "metadata": {},
   "source": [
    "**Create copy of main dfs:** \n",
    "\n",
    "We'll work with those now in order to keep the new_feat_info dataset original for later use. "
   ]
  },
  {
   "cell_type": "code",
   "execution_count": 63,
   "metadata": {},
   "outputs": [],
   "source": [
    "copy_azdias = azdias.copy()\n",
    "copy_feat_info = new_feat_info.copy()"
   ]
  },
  {
   "cell_type": "markdown",
   "metadata": {},
   "source": [
    "**Convert missing data to NaN:**"
   ]
  },
  {
   "cell_type": "code",
   "execution_count": 64,
   "metadata": {},
   "outputs": [],
   "source": [
    "def is_int(value):\n",
    "    try:\n",
    "        int(value)\n",
    "        return True\n",
    "    except ValueError:\n",
    "        return False"
   ]
  },
  {
   "cell_type": "code",
   "execution_count": 65,
   "metadata": {},
   "outputs": [],
   "source": [
    "copy_feat_info['missing_or_unknown'] = copy_feat_info.apply(lambda x: [int(i) if is_int(i) else i for i in x['missing_or_unknown']], axis=1)"
   ]
  },
  {
   "cell_type": "code",
   "execution_count": 66,
   "metadata": {},
   "outputs": [],
   "source": [
    "for idx in copy_feat_info.index:\n",
    "    column = idx\n",
    "    if column in copy_azdias.columns:\n",
    "        copy_azdias[column] = copy_azdias[column].replace(copy_feat_info.loc[column]['missing_or_unknown'], np.nan)"
   ]
  },
  {
   "cell_type": "markdown",
   "metadata": {},
   "source": [
    "**Assess missing data in each column:**"
   ]
  },
  {
   "cell_type": "code",
   "execution_count": 67,
   "metadata": {},
   "outputs": [
    {
     "data": {
      "text/plain": [
       "Text(0,0.5,'NaN values')"
      ]
     },
     "execution_count": 67,
     "metadata": {},
     "output_type": "execute_result"
    },
    {
     "data": {
      "image/png": "[encoded data removed]",
      "text/plain": [
       "<matplotlib.figure.Figure at 0x7f49a4204c18>"
      ]
     },
     "metadata": {
      "needs_background": "light"
     },
     "output_type": "display_data"
    }
   ],
   "source": [
    "# Perform an assessment of how much missing data there is in each column of the\n",
    "# dataset.\n",
    "\n",
    "count_list = []\n",
    "nan_list = []\n",
    "for column in copy_azdias.columns:\n",
    "    nan_count = copy_azdias[column].isnull().sum()\n",
    "    count_list.append(nan_count)\n",
    "    nan_list.append((column, nan_count))\n",
    "\n",
    "nan_data = pd.DataFrame(nan_list, columns=['Column', 'Count'])\n",
    "nan_data.sort_values('Count', inplace=True, ascending=False)\n",
    "\n",
    "# We are creating a new dataframe with the name of the columns as index so that we can display them in the graph\n",
    "# The purpose is merely visual, in the rest of the project we will work with nan_data\n",
    "nan_dict = {'Count': count_list}\n",
    "nan_df = pd.DataFrame(data=nan_dict, index = copy_azdias.columns)\n",
    "nan_df.sort_values('Count', inplace=True, ascending=False)\n",
    "\n",
    "nan_df.plot.bar(color='Purple', figsize=(20, 10));\n",
    "plt.xlabel('Attributes')\n",
    "plt.ylabel('NaN values')"
   ]
  },
  {
   "cell_type": "code",
   "execution_count": 68,
   "metadata": {},
   "outputs": [
    {
     "name": "stdout",
     "output_type": "stream",
     "text": [
      "From the graph, we set a threshold of 30% for the variables to drop.\n",
      "Thus, we will be dropping:\n",
      "ALTER_KIND4, 99.86% of NaN values\n",
      "TITEL_KZ, 99.76% of NaN values\n",
      "ALTER_KIND3, 99.31% of NaN values\n",
      "ALTER_KIND2, 96.69% of NaN values\n",
      "D19_TELKO_ANZ_12, 96.27% of NaN values\n",
      "D19_BANKEN_ANZ_12, 93.33% of NaN values\n",
      "D19_TELKO_ANZ_24, 92.71% of NaN values\n",
      "D19_VERSI_ANZ_12, 92.15% of NaN values\n",
      "ALTER_KIND1, 90.9% of NaN values\n",
      "D19_BANKEN_ANZ_24, 89.1% of NaN values\n",
      "D19_VERSI_ANZ_24, 87.19% of NaN values\n",
      "AGER_TYP, 76.96% of NaN values\n",
      "EXTSEL992, 73.4% of NaN values\n",
      "D19_VERSAND_ANZ_12, 71.58% of NaN values\n",
      "D19_GESAMT_ANZ_12, 65.62% of NaN values\n",
      "KK_KUNDENTYP, 65.6% of NaN values\n",
      "D19_VERSAND_ANZ_24, 63.26% of NaN values\n",
      "D19_GESAMT_ANZ_24, 56.7% of NaN values\n",
      "KBA05_BAUMAX, 53.47% of NaN values\n",
      "GEBURTSJAHR, 44.02% of NaN values\n",
      "ALTER_HH, 34.81% of NaN values\n"
     ]
    }
   ],
   "source": [
    "# Investigate patterns in the amount of missing data in each column.\n",
    "nan_group = []\n",
    "nan_prop = []\n",
    "nan_percent = []\n",
    "dropping = []\n",
    "\n",
    "print(\"From the graph, we set a threshold of 30% for the variables to drop.\")\n",
    "print(\"Thus, we will be dropping:\")\n",
    "\n",
    "for i, count in enumerate(nan_data['Count']):\n",
    "    col = nan_data['Column'].iloc[i]\n",
    "    x_nan = count / len(copy_azdias)\n",
    "    perc_nan = round(x_nan * 100, 2)\n",
    "\n",
    "    nan_prop.append(x_nan)\n",
    "    nan_percent.append(x_nan * 100)\n",
    "\n",
    "    if x_nan == 0:\n",
    "        nan_group.append(1)\n",
    "    elif x_nan > 0 and x_nan <= 0.05:\n",
    "        nan_group.append(2)\n",
    "    elif x_nan > 0.05 and x_nan <= 0.1:\n",
    "        nan_group.append(3)\n",
    "    elif x_nan > 0.1 and x_nan <= 0.15:\n",
    "        nan_group.append(4)\n",
    "    elif x_nan > 0.15 and x_nan <= 0.2:\n",
    "        nan_group.append(5)\n",
    "    elif x_nan > 0.2 and x_nan <= 0.25:\n",
    "        nan_group.append(6)\n",
    "    elif x_nan > 0.25 and x_nan <= 0.3:\n",
    "        nan_group.append(7)\n",
    "    else:\n",
    "        print(\"{}, {}% of NaN values\".format(col, perc_nan))\n",
    "        dropping.append(col)\n",
    "        \n",
    "nan_data['Proportion'] = nan_prop\n",
    "nan_data['Percentage'] = nan_percent"
   ]
  },
  {
   "cell_type": "code",
   "execution_count": 69,
   "metadata": {},
   "outputs": [
    {
     "data": {
      "text/plain": [
       "['ALTER_KIND4',\n",
       " 'TITEL_KZ',\n",
       " 'ALTER_KIND3',\n",
       " 'ALTER_KIND2',\n",
       " 'D19_TELKO_ANZ_12',\n",
       " 'D19_BANKEN_ANZ_12',\n",
       " 'D19_TELKO_ANZ_24',\n",
       " 'D19_VERSI_ANZ_12',\n",
       " 'ALTER_KIND1',\n",
       " 'D19_BANKEN_ANZ_24',\n",
       " 'D19_VERSI_ANZ_24',\n",
       " 'AGER_TYP',\n",
       " 'EXTSEL992',\n",
       " 'D19_VERSAND_ANZ_12',\n",
       " 'D19_GESAMT_ANZ_12',\n",
       " 'KK_KUNDENTYP',\n",
       " 'D19_VERSAND_ANZ_24',\n",
       " 'D19_GESAMT_ANZ_24',\n",
       " 'KBA05_BAUMAX',\n",
       " 'GEBURTSJAHR',\n",
       " 'ALTER_HH']"
      ]
     },
     "execution_count": 69,
     "metadata": {},
     "output_type": "execute_result"
    }
   ],
   "source": [
    "dropping"
   ]
  },
  {
   "cell_type": "code",
   "execution_count": 70,
   "metadata": {},
   "outputs": [],
   "source": [
    "# Remove the outlier columns from the dataset. (You'll perform other data\n",
    "# engineering tasks such as re-encoding and imputation later.)\n",
    "azdias = azdias.drop(dropping, axis=1)"
   ]
  },
  {
   "cell_type": "code",
   "execution_count": 71,
   "metadata": {},
   "outputs": [
    {
     "name": "stdout",
     "output_type": "stream",
     "text": [
      "Let's get some insights!\n",
      "No missing values:\n",
      "75 attributes without missing or unknown values.\n",
      "Missing values with less than 20% of missing values:\n",
      "17 with a proportion lower or equal to 5%, 16 with a proportion between 10% and 15% and 224 between 15% and 20%.\n",
      "Missing values with a proportion higher than 20% but lower than our threshold, 30%:\n",
      "Finaly, there are 3 between 20% and 25%, and 0 between 25% and 30%.\n"
     ]
    }
   ],
   "source": [
    "print(\"Let's get some insights!\")\n",
    "print(\"No missing values:\")\n",
    "print(\"{} attributes without missing or unknown values.\".format(nan_group.count(1)))\n",
    "print(\"Missing values with less than 20% of missing values:\")\n",
    "print(\"{} with a proportion lower or equal to 5%, {} with a proportion between 10% and 15% and {} between 15% and 20%.\".format(nan_group.count(2), nan_group.count(3), nan_group.count(4)))\n",
    "print(\"Missing values with a proportion higher than 20% but lower than our threshold, 30%:\")\n",
    "print(\"Finaly, there are {} between 20% and 25%, and {} between 25% and 30%.\".format(nan_group.count(5), nan_group.count(6)))"
   ]
  },
  {
   "cell_type": "code",
   "execution_count": 72,
   "metadata": {},
   "outputs": [],
   "source": [
    "# Remove from feat_info the rows correspondent to the variables that were deleted from azdias \n",
    "# This is necessary to keep consistency between both datasets\n",
    "for variable in dropping:\n",
    "    copy_feat_info = copy_feat_info[copy_feat_info.attribute != variable]"
   ]
  },
  {
   "cell_type": "markdown",
   "metadata": {},
   "source": [
    "#### Discussion 1.1.2: Assess Missing Data in Each Column\n",
    "\n",
    "There are 21 columns that standout considerably because of their amount of missing values. These are: ALTER_KIND4, TITEL_KZ, ALTER_KIND3, ALTER_KIND2, D19_TELKO_ANZ_12, D19_BANKEN_ANZ_12, D19_TELKO_ANZ_24, D19_VERSI_ANZ_12, ALTER_KIND1, D19_BANKEN_ANZ_24, D19_VERSI_ANZ_24, AGER_TYP, EXTSEL992, D19_VERSAND_ANZ_12, D19_GESAMT_ANZ_12, KK_KUNDENTYP, D19_VERSAND_ANZ_24, D19_GESAMT_ANZ_24, KBA05_BAUMAX, GEBURTSJAHR and ALTER_HH. All of them have more than 30% of their values missing, which was the threshold used to decide which columns to drop. It is relevant noting that there are similarities in the amounts of missing or unknown values for different groups of the attributes. We can see above that there is a considerable number of variables without any missing value, and then most of the rest fall between 0 and 20%, with special emphasis in the interval 15-20%."
   ]
  },
  {
   "cell_type": "markdown",
   "metadata": {},
   "source": [
    "**Assess missing data by rows:**"
   ]
  },
  {
   "cell_type": "code",
   "execution_count": 73,
   "metadata": {},
   "outputs": [
    {
     "data": {
      "text/plain": [
       "0    269\n",
       "1     28\n",
       "2     18\n",
       "3     24\n",
       "4      9\n",
       "dtype: int64"
      ]
     },
     "execution_count": 73,
     "metadata": {},
     "output_type": "execute_result"
    }
   ],
   "source": [
    "# Amount of data missing in each row of the azdias dataset\n",
    "missing_values_by_row = copy_azdias.isnull().sum(axis=1)\n",
    "missing_values_by_row.head()"
   ]
  },
  {
   "cell_type": "code",
   "execution_count": 74,
   "metadata": {},
   "outputs": [
    {
     "data": {
      "text/plain": [
       "count    891221.000000\n",
       "mean         49.561514\n",
       "std          77.406933\n",
       "min           2.000000\n",
       "25%          14.000000\n",
       "50%          19.000000\n",
       "75%          30.000000\n",
       "max         275.000000\n",
       "dtype: float64"
      ]
     },
     "execution_count": 74,
     "metadata": {},
     "output_type": "execute_result"
    }
   ],
   "source": [
    "# Getting some information\n",
    "missing_values_by_row.describe()"
   ]
  },
  {
   "cell_type": "code",
   "execution_count": 75,
   "metadata": {},
   "outputs": [
    {
     "data": {
      "image/png": "[encoded data removed]",
      "text/plain": [
       "<matplotlib.figure.Figure at 0x7f49a0753f98>"
      ]
     },
     "metadata": {
      "needs_background": "light"
     },
     "output_type": "display_data"
    }
   ],
   "source": [
    "plt.figure(figsize=(20, 10))\n",
    "plt.xticks(np.arange(0, 55, 1))\n",
    "plt.xlabel('NaN values per row')\n",
    "plt.ylabel('Nb of rows')\n",
    "plt.hist(missing_values_by_row, color='purple', bins=np.arange(0, 55, 1));"
   ]
  },
  {
   "cell_type": "code",
   "execution_count": 76,
   "metadata": {},
   "outputs": [],
   "source": [
    "rows = len(copy_azdias)\n",
    "rows_with_missing_values = missing_values_by_row[missing_values_by_row != 0].count()\n",
    "rows_without_missing_values = missing_values_by_row[missing_values_by_row == 0].count()\n",
    "\n",
    "percent_missing = rows_with_missing_values / rows * 100\n",
    "percent_no_missing = 100 - percent_missing"
   ]
  },
  {
   "cell_type": "code",
   "execution_count": 77,
   "metadata": {},
   "outputs": [
    {
     "name": "stdout",
     "output_type": "stream",
     "text": [
      "Number of rows without any missing values:\n",
      "0, 0.0% of total number of rows\n"
     ]
    }
   ],
   "source": [
    "print(\"Number of rows without any missing values:\")\n",
    "print(\"{}, {}% of total number of rows\".format(rows_without_missing_values, round(percent_no_missing, 2)))"
   ]
  },
  {
   "cell_type": "code",
   "execution_count": 78,
   "metadata": {},
   "outputs": [
    {
     "data": {
      "text/plain": [
       "count    891221.000000\n",
       "mean         49.561514\n",
       "std          77.406933\n",
       "min           2.000000\n",
       "25%          14.000000\n",
       "50%          19.000000\n",
       "75%          30.000000\n",
       "max         275.000000\n",
       "dtype: float64"
      ]
     },
     "execution_count": 78,
     "metadata": {},
     "output_type": "execute_result"
    }
   ],
   "source": [
    "missing_values_by_row.describe()"
   ]
  },
  {
   "cell_type": "code",
   "execution_count": 79,
   "metadata": {},
   "outputs": [],
   "source": [
    "# Write code to divide the data into two subsets based on the number of missing\n",
    "# values in each row.\n",
    "\n",
    "# With describe() we could see that the mean value of missing values by row is 49.56\n",
    "# Thus, the threshold will be set as 50\n",
    "\n",
    "# Reminder: missing_values_by_row = azdias.isnull().sum(axis=1)\n",
    "\n",
    "threshold = 50\n",
    "azdias_c_low = copy_azdias[missing_values_by_row < threshold].reset_index(drop=True)\n",
    "azdias_c_high = copy_azdias[missing_values_by_row >= threshold].reset_index(drop=True)"
   ]
  },
  {
   "cell_type": "markdown",
   "metadata": {},
   "source": [
    "#### Discussion 1.1.3: Assess Missing Data in Each Row\n",
    "\n",
    "When assessing the missing data by rows the thereshold was set as 50 missing values by row since the mean of missing values was 49.56. Thus, our final dataset is one where all rows have less than 50 missing values. \n",
    "\n",
    "It can be concluded from the analysis that many of the variables present a different distribrution between the rows with many missing values and those with just a few, which means that data is qualitatively different between them. "
   ]
  },
  {
   "cell_type": "code",
   "execution_count": 68,
   "metadata": {},
   "outputs": [],
   "source": [
    "azdias_c_low = pd.read_csv('azdias_c_low.csv')"
   ]
  },
  {
   "cell_type": "code",
   "execution_count": 69,
   "metadata": {},
   "outputs": [],
   "source": [
    "copy_feat_info = pd.read_csv('copy_feat_info.csv')"
   ]
  },
  {
   "cell_type": "markdown",
   "metadata": {},
   "source": [
    "**Re-encode categorical features:**"
   ]
  },
  {
   "cell_type": "code",
   "execution_count": 81,
   "metadata": {
    "scrolled": true
   },
   "outputs": [
    {
     "data": {
      "text/plain": [
       "ordinal        230\n",
       "numeric         89\n",
       "categorical     20\n",
       "mixed            6\n",
       "Name: type, dtype: int64"
      ]
     },
     "execution_count": 81,
     "metadata": {},
     "output_type": "execute_result"
    }
   ],
   "source": [
    "copy_feat_info.type.value_counts(dropna=False)"
   ]
  },
  {
   "cell_type": "code",
   "execution_count": 82,
   "metadata": {},
   "outputs": [],
   "source": [
    "categ_var = copy_feat_info[copy_feat_info.type == 'categorical'].attribute.tolist()"
   ]
  },
  {
   "cell_type": "code",
   "execution_count": 83,
   "metadata": {},
   "outputs": [
    {
     "data": {
      "text/html": [
       "<div>\n",
       "<style scoped>\n",
       "    .dataframe tbody tr th:only-of-type {\n",
       "        vertical-align: middle;\n",
       "    }\n",
       "\n",
       "    .dataframe tbody tr th {\n",
       "        vertical-align: top;\n",
       "    }\n",
       "\n",
       "    .dataframe thead th {\n",
       "        text-align: right;\n",
       "    }\n",
       "</style>\n",
       "<table border=\"1\" class=\"dataframe\">\n",
       "  <thead>\n",
       "    <tr style=\"text-align: right;\">\n",
       "      <th></th>\n",
       "      <th>ANREDE_KZ</th>\n",
       "      <th>CJT_GESAMTTYP</th>\n",
       "      <th>FINANZTYP</th>\n",
       "      <th>GFK_URLAUBERTYP</th>\n",
       "      <th>GREEN_AVANTGARDE</th>\n",
       "      <th>LP_FAMILIE_FEIN</th>\n",
       "      <th>LP_FAMILIE_GROB</th>\n",
       "      <th>LP_STATUS_FEIN</th>\n",
       "      <th>LP_STATUS_GROB</th>\n",
       "      <th>NATIONALITAET_KZ</th>\n",
       "      <th>SHOPPER_TYP</th>\n",
       "      <th>SOHO_KZ</th>\n",
       "      <th>VERS_TYP</th>\n",
       "      <th>ZABEOTYP</th>\n",
       "      <th>GEBAEUDETYP</th>\n",
       "      <th>OST_WEST_KZ</th>\n",
       "      <th>CAMEO_DEUG_2015</th>\n",
       "      <th>CAMEO_DEU_2015</th>\n",
       "      <th>D19_LETZTER_KAUF_BRANCHE</th>\n",
       "      <th>EINGEFUEGT_AM</th>\n",
       "    </tr>\n",
       "  </thead>\n",
       "  <tbody>\n",
       "    <tr>\n",
       "      <th>0</th>\n",
       "      <td>2.0</td>\n",
       "      <td>5.0</td>\n",
       "      <td>1.0</td>\n",
       "      <td>10.0</td>\n",
       "      <td>0.0</td>\n",
       "      <td>5.0</td>\n",
       "      <td>3.0</td>\n",
       "      <td>2.0</td>\n",
       "      <td>1.0</td>\n",
       "      <td>1.0</td>\n",
       "      <td>3.0</td>\n",
       "      <td>1.0</td>\n",
       "      <td>2.0</td>\n",
       "      <td>5.0</td>\n",
       "      <td>8.0</td>\n",
       "      <td>W</td>\n",
       "      <td>8.0</td>\n",
       "      <td>8A</td>\n",
       "      <td>NaN</td>\n",
       "      <td>1992-02-10 00:00:00</td>\n",
       "    </tr>\n",
       "    <tr>\n",
       "      <th>1</th>\n",
       "      <td>2.0</td>\n",
       "      <td>3.0</td>\n",
       "      <td>1.0</td>\n",
       "      <td>10.0</td>\n",
       "      <td>1.0</td>\n",
       "      <td>1.0</td>\n",
       "      <td>1.0</td>\n",
       "      <td>3.0</td>\n",
       "      <td>2.0</td>\n",
       "      <td>1.0</td>\n",
       "      <td>2.0</td>\n",
       "      <td>0.0</td>\n",
       "      <td>1.0</td>\n",
       "      <td>5.0</td>\n",
       "      <td>1.0</td>\n",
       "      <td>W</td>\n",
       "      <td>4.0</td>\n",
       "      <td>4C</td>\n",
       "      <td>D19_UNBEKANNT</td>\n",
       "      <td>1992-02-12 00:00:00</td>\n",
       "    </tr>\n",
       "    <tr>\n",
       "      <th>2</th>\n",
       "      <td>2.0</td>\n",
       "      <td>2.0</td>\n",
       "      <td>6.0</td>\n",
       "      <td>1.0</td>\n",
       "      <td>0.0</td>\n",
       "      <td>NaN</td>\n",
       "      <td>NaN</td>\n",
       "      <td>9.0</td>\n",
       "      <td>4.0</td>\n",
       "      <td>1.0</td>\n",
       "      <td>1.0</td>\n",
       "      <td>0.0</td>\n",
       "      <td>1.0</td>\n",
       "      <td>3.0</td>\n",
       "      <td>1.0</td>\n",
       "      <td>W</td>\n",
       "      <td>2.0</td>\n",
       "      <td>2A</td>\n",
       "      <td>D19_UNBEKANNT</td>\n",
       "      <td>1997-04-21 00:00:00</td>\n",
       "    </tr>\n",
       "    <tr>\n",
       "      <th>3</th>\n",
       "      <td>1.0</td>\n",
       "      <td>5.0</td>\n",
       "      <td>5.0</td>\n",
       "      <td>5.0</td>\n",
       "      <td>0.0</td>\n",
       "      <td>10.0</td>\n",
       "      <td>5.0</td>\n",
       "      <td>3.0</td>\n",
       "      <td>2.0</td>\n",
       "      <td>1.0</td>\n",
       "      <td>2.0</td>\n",
       "      <td>0.0</td>\n",
       "      <td>2.0</td>\n",
       "      <td>4.0</td>\n",
       "      <td>1.0</td>\n",
       "      <td>W</td>\n",
       "      <td>6.0</td>\n",
       "      <td>6B</td>\n",
       "      <td>D19_SCHUHE</td>\n",
       "      <td>1992-02-12 00:00:00</td>\n",
       "    </tr>\n",
       "    <tr>\n",
       "      <th>4</th>\n",
       "      <td>2.0</td>\n",
       "      <td>2.0</td>\n",
       "      <td>2.0</td>\n",
       "      <td>1.0</td>\n",
       "      <td>0.0</td>\n",
       "      <td>1.0</td>\n",
       "      <td>1.0</td>\n",
       "      <td>4.0</td>\n",
       "      <td>2.0</td>\n",
       "      <td>1.0</td>\n",
       "      <td>0.0</td>\n",
       "      <td>0.0</td>\n",
       "      <td>2.0</td>\n",
       "      <td>4.0</td>\n",
       "      <td>1.0</td>\n",
       "      <td>W</td>\n",
       "      <td>8.0</td>\n",
       "      <td>8C</td>\n",
       "      <td>D19_ENERGIE</td>\n",
       "      <td>1992-02-12 00:00:00</td>\n",
       "    </tr>\n",
       "  </tbody>\n",
       "</table>\n",
       "</div>"
      ],
      "text/plain": [
       "   ANREDE_KZ  CJT_GESAMTTYP  FINANZTYP  GFK_URLAUBERTYP  GREEN_AVANTGARDE  \\\n",
       "0        2.0            5.0        1.0             10.0               0.0   \n",
       "1        2.0            3.0        1.0             10.0               1.0   \n",
       "2        2.0            2.0        6.0              1.0               0.0   \n",
       "3        1.0            5.0        5.0              5.0               0.0   \n",
       "4        2.0            2.0        2.0              1.0               0.0   \n",
       "\n",
       "   LP_FAMILIE_FEIN  LP_FAMILIE_GROB  LP_STATUS_FEIN  LP_STATUS_GROB  \\\n",
       "0              5.0              3.0             2.0             1.0   \n",
       "1              1.0              1.0             3.0             2.0   \n",
       "2              NaN              NaN             9.0             4.0   \n",
       "3             10.0              5.0             3.0             2.0   \n",
       "4              1.0              1.0             4.0             2.0   \n",
       "\n",
       "   NATIONALITAET_KZ  SHOPPER_TYP  SOHO_KZ  VERS_TYP  ZABEOTYP  GEBAEUDETYP  \\\n",
       "0               1.0          3.0      1.0       2.0       5.0          8.0   \n",
       "1               1.0          2.0      0.0       1.0       5.0          1.0   \n",
       "2               1.0          1.0      0.0       1.0       3.0          1.0   \n",
       "3               1.0          2.0      0.0       2.0       4.0          1.0   \n",
       "4               1.0          0.0      0.0       2.0       4.0          1.0   \n",
       "\n",
       "  OST_WEST_KZ  CAMEO_DEUG_2015 CAMEO_DEU_2015 D19_LETZTER_KAUF_BRANCHE  \\\n",
       "0           W              8.0             8A                      NaN   \n",
       "1           W              4.0             4C            D19_UNBEKANNT   \n",
       "2           W              2.0             2A            D19_UNBEKANNT   \n",
       "3           W              6.0             6B               D19_SCHUHE   \n",
       "4           W              8.0             8C              D19_ENERGIE   \n",
       "\n",
       "         EINGEFUEGT_AM  \n",
       "0  1992-02-10 00:00:00  \n",
       "1  1992-02-12 00:00:00  \n",
       "2  1997-04-21 00:00:00  \n",
       "3  1992-02-12 00:00:00  \n",
       "4  1992-02-12 00:00:00  "
      ]
     },
     "execution_count": 83,
     "metadata": {},
     "output_type": "execute_result"
    }
   ],
   "source": [
    "azdias_c_low[categ_var].head()"
   ]
  },
  {
   "cell_type": "code",
   "execution_count": 84,
   "metadata": {},
   "outputs": [],
   "source": [
    "binary_num_var = []\n",
    "binary_str_var = []\n",
    "multi_level_var = []\n",
    "\n",
    "for variable in categ_var:\n",
    "    if len(azdias_c_low[variable].value_counts()) > 2:\n",
    "        multi_level_var.append(variable)\n",
    "    else:\n",
    "        if azdias_c_low[variable].dtype == 'object':\n",
    "            binary_str_var.append(variable)\n",
    "        else:\n",
    "            binary_num_var.append(variable)"
   ]
  },
  {
   "cell_type": "code",
   "execution_count": 85,
   "metadata": {},
   "outputs": [
    {
     "data": {
      "text/plain": [
       "['OST_WEST_KZ']"
      ]
     },
     "execution_count": 85,
     "metadata": {},
     "output_type": "execute_result"
    }
   ],
   "source": [
    "binary_str_var"
   ]
  },
  {
   "cell_type": "code",
   "execution_count": 86,
   "metadata": {},
   "outputs": [
    {
     "data": {
      "text/plain": [
       "OST_WEST_KZ    object\n",
       "dtype: object"
      ]
     },
     "execution_count": 86,
     "metadata": {},
     "output_type": "execute_result"
    }
   ],
   "source": [
    "azdias_c_low[binary_str_var].dtypes"
   ]
  },
  {
   "cell_type": "code",
   "execution_count": 87,
   "metadata": {},
   "outputs": [
    {
     "data": {
      "text/html": [
       "<div>\n",
       "<style scoped>\n",
       "    .dataframe tbody tr th:only-of-type {\n",
       "        vertical-align: middle;\n",
       "    }\n",
       "\n",
       "    .dataframe tbody tr th {\n",
       "        vertical-align: top;\n",
       "    }\n",
       "\n",
       "    .dataframe thead th {\n",
       "        text-align: right;\n",
       "    }\n",
       "</style>\n",
       "<table border=\"1\" class=\"dataframe\">\n",
       "  <thead>\n",
       "    <tr style=\"text-align: right;\">\n",
       "      <th></th>\n",
       "      <th>OST_WEST_KZ</th>\n",
       "    </tr>\n",
       "  </thead>\n",
       "  <tbody>\n",
       "    <tr>\n",
       "      <th>0</th>\n",
       "      <td>W</td>\n",
       "    </tr>\n",
       "    <tr>\n",
       "      <th>1</th>\n",
       "      <td>W</td>\n",
       "    </tr>\n",
       "    <tr>\n",
       "      <th>2</th>\n",
       "      <td>W</td>\n",
       "    </tr>\n",
       "    <tr>\n",
       "      <th>3</th>\n",
       "      <td>W</td>\n",
       "    </tr>\n",
       "    <tr>\n",
       "      <th>4</th>\n",
       "      <td>W</td>\n",
       "    </tr>\n",
       "  </tbody>\n",
       "</table>\n",
       "</div>"
      ],
      "text/plain": [
       "  OST_WEST_KZ\n",
       "0           W\n",
       "1           W\n",
       "2           W\n",
       "3           W\n",
       "4           W"
      ]
     },
     "execution_count": 87,
     "metadata": {},
     "output_type": "execute_result"
    }
   ],
   "source": [
    "azdias_c_low[binary_str_var].head()"
   ]
  },
  {
   "cell_type": "code",
   "execution_count": 88,
   "metadata": {},
   "outputs": [],
   "source": [
    "# Re-encode OST_WEST_KZ as dummy variable\n",
    "azdias_c_low['OST_WEST_KZ'] = azdias_c_low['OST_WEST_KZ'].map({'W': 1, 'O': 2})"
   ]
  },
  {
   "cell_type": "code",
   "execution_count": 89,
   "metadata": {},
   "outputs": [
    {
     "data": {
      "text/plain": [
       "['ANREDE_KZ', 'GREEN_AVANTGARDE', 'SOHO_KZ', 'VERS_TYP']"
      ]
     },
     "execution_count": 89,
     "metadata": {},
     "output_type": "execute_result"
    }
   ],
   "source": [
    "binary_num_var"
   ]
  },
  {
   "cell_type": "code",
   "execution_count": 90,
   "metadata": {},
   "outputs": [
    {
     "data": {
      "text/plain": [
       "ANREDE_KZ           float64\n",
       "GREEN_AVANTGARDE    float64\n",
       "SOHO_KZ             float64\n",
       "VERS_TYP            float64\n",
       "dtype: object"
      ]
     },
     "execution_count": 90,
     "metadata": {},
     "output_type": "execute_result"
    }
   ],
   "source": [
    "azdias_c_low[binary_num_var].dtypes"
   ]
  },
  {
   "cell_type": "code",
   "execution_count": 91,
   "metadata": {},
   "outputs": [
    {
     "data": {
      "text/plain": [
       "['CJT_GESAMTTYP',\n",
       " 'FINANZTYP',\n",
       " 'GFK_URLAUBERTYP',\n",
       " 'LP_FAMILIE_FEIN',\n",
       " 'LP_FAMILIE_GROB',\n",
       " 'LP_STATUS_FEIN',\n",
       " 'LP_STATUS_GROB',\n",
       " 'NATIONALITAET_KZ',\n",
       " 'SHOPPER_TYP',\n",
       " 'ZABEOTYP',\n",
       " 'GEBAEUDETYP',\n",
       " 'CAMEO_DEUG_2015',\n",
       " 'CAMEO_DEU_2015',\n",
       " 'D19_LETZTER_KAUF_BRANCHE',\n",
       " 'EINGEFUEGT_AM']"
      ]
     },
     "execution_count": 91,
     "metadata": {},
     "output_type": "execute_result"
    }
   ],
   "source": [
    "multi_level_var"
   ]
  },
  {
   "cell_type": "code",
   "execution_count": 92,
   "metadata": {},
   "outputs": [],
   "source": [
    "azdias_c_low.drop(['D19_LETZTER_KAUF_BRANCHE', 'EINGEFUEGT_AM'], axis=1, inplace=True)"
   ]
  },
  {
   "cell_type": "code",
   "execution_count": 93,
   "metadata": {},
   "outputs": [],
   "source": [
    "copy_feat_info = copy_feat_info[copy_feat_info.attribute != 'D19_LETZTER_KAUF_BRANCHE']\n",
    "copy_feat_info = copy_feat_info[copy_feat_info.attribute != 'EINGEFUEGT_AM']"
   ]
  },
  {
   "cell_type": "code",
   "execution_count": 94,
   "metadata": {
    "scrolled": true
   },
   "outputs": [
    {
     "data": {
      "text/plain": [
       "['CJT_GESAMTTYP',\n",
       " 'FINANZTYP',\n",
       " 'GFK_URLAUBERTYP',\n",
       " 'LP_FAMILIE_FEIN',\n",
       " 'LP_FAMILIE_GROB',\n",
       " 'LP_STATUS_FEIN',\n",
       " 'LP_STATUS_GROB',\n",
       " 'NATIONALITAET_KZ',\n",
       " 'SHOPPER_TYP',\n",
       " 'ZABEOTYP',\n",
       " 'GEBAEUDETYP',\n",
       " 'CAMEO_DEUG_2015',\n",
       " 'CAMEO_DEU_2015']"
      ]
     },
     "execution_count": 94,
     "metadata": {},
     "output_type": "execute_result"
    }
   ],
   "source": [
    "multi_level_var = multi_level_var[:-2]\n",
    "multi_level_var"
   ]
  },
  {
   "cell_type": "code",
   "execution_count": 95,
   "metadata": {},
   "outputs": [],
   "source": [
    "# Convert categorical variables to dummies \n",
    "def encode_cat_dummies(df, variables_list):\n",
    "    for variable in variables_list:\n",
    "        dummies_df = pd.get_dummies(df[variable], prefix=variable)\n",
    "        df.drop(variable, axis=1, inplace=True)\n",
    "        df = pd.concat([df, dummies_df], axis=1)\n",
    "    return df"
   ]
  },
  {
   "cell_type": "code",
   "execution_count": 96,
   "metadata": {},
   "outputs": [],
   "source": [
    "new_azdias = encode_cat_dummies(azdias_c_low, multi_level_var)"
   ]
  },
  {
   "cell_type": "code",
   "execution_count": 97,
   "metadata": {},
   "outputs": [
    {
     "data": {
      "text/plain": [
       "['LP_LEBENSPHASE_FEIN',\n",
       " 'LP_LEBENSPHASE_GROB',\n",
       " 'PRAEGENDE_JUGENDJAHRE',\n",
       " 'WOHNLAGE',\n",
       " 'CAMEO_INTL_2015',\n",
       " 'PLZ8_BAUMAX']"
      ]
     },
     "execution_count": 97,
     "metadata": {},
     "output_type": "execute_result"
    }
   ],
   "source": [
    "# Engineer Mixed-Type Features\n",
    "mixed_var = copy_feat_info.attribute[copy_feat_info.type == 'mixed'].tolist()\n",
    "mixed_var"
   ]
  },
  {
   "cell_type": "code",
   "execution_count": 98,
   "metadata": {},
   "outputs": [],
   "source": [
    "life_stage = {1: 'younger_age',    2: 'middle_age',      3: 'younger_age',     4: 'middle_age',    5: 'advanced_age', \n",
    "              6: 'retirement_age', 7: 'advanced_age',    8: 'retirement_age',  9: 'middle_age',   10: 'middle_age', \n",
    "             11: 'advanced_age',  12: 'retirement_age', 13: 'advanced_age',   14: 'younger_age',  15: 'advanced_age',\n",
    "             16: 'advanced_age',  17: 'middle_age',     18: 'younger_age',    19: 'advanced_age', 20: 'advanced_age', \n",
    "             21: 'middle_age',    22: 'middle_age',     23: 'middle_age',     24: 'middle_age',   25: 'middle_age', \n",
    "             26: 'middle_age',    27: 'middle_age',     28: 'middle_age',     29: 'younger_age',  30: 'younger_age',\n",
    "             31: 'advanced_age',  32: 'advanced_age',   33: 'younger_age',    34: 'younger_age',  35: 'younger_age', \n",
    "             36: 'advanced_age',  37: 'advanced_age',   38: 'retirement_age', 39: 'middle_age',   40: 'retirement_age'}\n",
    "\n",
    "fine_scale = {1: 'low',       2: 'low',      3: 'average',  4: 'average',   5: 'low',      6: 'low',      7: 'average',   \n",
    "              8: 'average',   9: 'average', 10: 'wealthy', 11: 'average',  12: 'average', 13: 'top',     14: 'average', \n",
    "             15: 'low',      16: 'average', 17: 'average', 18: 'wealthy',  19: 'wealthy', 20: 'top',     21: 'low',\n",
    "             22: 'average',  23: 'wealthy', 24: 'low',     25: 'average',  26: 'average', 27: 'average', 28: 'top',     \n",
    "             29: 'low',      30: 'average', 31: 'low',     32: 'average',  33: 'average', 34: 'average', 35: 'top', \n",
    "             36: 'average',  37: 'average', 38: 'average', 39: 'top',      40: 'top'}\n",
    "\n",
    "new_azdias['LP_life_stage'] = new_azdias['LP_LEBENSPHASE_FEIN'].map(life_stage)\n",
    "new_azdias['LP_fine_scale'] = new_azdias['LP_LEBENSPHASE_FEIN'].map(fine_scale)\n",
    "\n",
    "# Drop LP_LEBENSPHASE_FEIN\n",
    "new_azdias.drop('LP_LEBENSPHASE_FEIN', axis=1, inplace=True)"
   ]
  },
  {
   "cell_type": "code",
   "execution_count": 99,
   "metadata": {},
   "outputs": [],
   "source": [
    "# R-encode LP_life_stage and LP_fine_scale as ordinal\n",
    "dic_life = {'younger_age': 1, 'middle_age': 2, 'advanced_age': 3, 'retirement_age': 4}\n",
    "dic_scale = {'low': 1, 'average': 2, 'wealthy': 3, 'top': 4}\n",
    "\n",
    "new_azdias['LP_life_stage'] = new_azdias['LP_life_stage'].map(dic_life)\n",
    "new_azdias['LP_fine_scale'] = new_azdias['LP_fine_scale'].map(dic_scale)\n",
    "\n",
    "new_azdias.drop('LP_LEBENSPHASE_GROB', axis=1, inplace=True)"
   ]
  },
  {
   "cell_type": "code",
   "execution_count": 100,
   "metadata": {},
   "outputs": [],
   "source": [
    "# Investigate \"PRAEGENDE_JUGENDJAHRE\" and engineer two new variables.\n",
    "\n",
    "new_azdias['PRAEGENDE_JUGENDJAHRE'].describe()\n",
    "\n",
    "decade = {1:40, 2:40, 3:50, 4:50, 5:60, 6:60, 7:60, 8:70, 9:70, 10:80, 11:80, 12:80, 13:80, 14:90, 15:90, \n",
    "          np.nan: np.nan, -1: np.nan, 0: np.nan}\n",
    "avantgarde = {1:0, 2:1, 3:0, 4:1, 5:0, 6:1, 7:1, 8:0, 9:1, 10:0, 11:1, 12:0, 13:1, 14:0, 15:1,\n",
    "              np.nan: np.nan, -1: np.nan, 0: np.nan}\n",
    "\n",
    "new_azdias['YOUTH'] = new_azdias['PRAEGENDE_JUGENDJAHRE'].map(decade)\n",
    "new_azdias['AVANTGARDE'] = new_azdias['PRAEGENDE_JUGENDJAHRE'].map(avantgarde)\n",
    "\n",
    "new_azdias = new_azdias.drop('PRAEGENDE_JUGENDJAHRE', axis=1)"
   ]
  },
  {
   "cell_type": "code",
   "execution_count": 101,
   "metadata": {},
   "outputs": [],
   "source": [
    "# replace 0 by nan\n",
    "new_azdias['WOHNLAGE'] = new_azdias['WOHNLAGE'].replace(0, np.nan)"
   ]
  },
  {
   "cell_type": "code",
   "execution_count": 102,
   "metadata": {},
   "outputs": [],
   "source": [
    "dummies_list = ['WOHNLAGE', 'PLZ8_BAUMAX']\n",
    "new_azdias = encode_cat_dummies(new_azdias, dummies_list)"
   ]
  },
  {
   "cell_type": "code",
   "execution_count": 103,
   "metadata": {},
   "outputs": [],
   "source": [
    "def encode_CAMEO_INTL_2015(value):\n",
    "    if np.isnan(value):\n",
    "        return [np.nan, np.nan]\n",
    "    else:\n",
    "        value = str(value).split('.')[0]\n",
    "        return [int(value[0]), int(value[1])]\n",
    "\n",
    "\n",
    "new_azdias[\"CAMEO_INTL_2015\"] = new_azdias[\"CAMEO_INTL_2015\"].apply(lambda x: float(x))\n",
    "new_azdias[\"CAMEO_INTL_2015\"] = new_azdias[\"CAMEO_INTL_2015\"].apply(encode_CAMEO_INTL_2015)\n",
    "\n",
    "# CAMEO_INTL_2015_WEALTH and CAMEO_INTL_2015_LIFE_STAGE\n",
    "new_azdias[\"CAMEO_INTL_2015_WEALTH\"] = new_azdias[\"CAMEO_INTL_2015\"].apply(lambda x: x[0])\n",
    "new_azdias[\"CAMEO_INTL_2015_LIFE_STAGE\"] = new_azdias[\"CAMEO_INTL_2015\"].apply(lambda x: x[1])\n",
    "\n",
    "# drop CAMEO_INTL_2015\n",
    "new_azdias.drop('CAMEO_INTL_2015', axis=1, inplace=True)"
   ]
  },
  {
   "cell_type": "markdown",
   "metadata": {},
   "source": [
    "**Cleaning function:**"
   ]
  },
  {
   "cell_type": "code",
   "execution_count": 120,
   "metadata": {},
   "outputs": [],
   "source": [
    "def is_int(value):\n",
    "    try:\n",
    "        int(value)\n",
    "        return True\n",
    "    except ValueError:\n",
    "        return False"
   ]
  },
  {
   "cell_type": "code",
   "execution_count": 121,
   "metadata": {},
   "outputs": [],
   "source": [
    "def encode_cat_dummies(df, variables_list):\n",
    "    for variable in variables_list:\n",
    "        dummies_df = pd.get_dummies(df[variable], prefix=variable)\n",
    "        df.drop(variable, axis=1, inplace=True)\n",
    "        df = pd.concat([df, dummies_df], axis=1)\n",
    "    return df"
   ]
  },
  {
   "cell_type": "code",
   "execution_count": 122,
   "metadata": {},
   "outputs": [],
   "source": [
    "def encode_CAMEO_INTL_2015(value):\n",
    "    if np.isnan(value):\n",
    "        return [np.nan, np.nan]\n",
    "    else:\n",
    "        value = str(value).split('.')[0]\n",
    "        return [int(value[0]), int(value[1])]"
   ]
  },
  {
   "cell_type": "code",
   "execution_count": 123,
   "metadata": {},
   "outputs": [],
   "source": [
    "dropping = ['ALTER_KIND4', 'TITEL_KZ', 'ALTER_KIND3', 'ALTER_KIND2', 'D19_TELKO_ANZ_12', 'D19_BANKEN_ANZ_12',\n",
    "            'D19_TELKO_ANZ_24', 'D19_VERSI_ANZ_12', 'ALTER_KIND1', 'D19_BANKEN_ANZ_24', 'D19_VERSI_ANZ_24',\n",
    "            'AGER_TYP', 'EXTSEL992', 'D19_VERSAND_ANZ_12', 'D19_GESAMT_ANZ_12', 'KK_KUNDENTYP', 'D19_VERSAND_ANZ_24',\n",
    "            'D19_GESAMT_ANZ_24', 'KBA05_BAUMAX', 'GEBURTSJAHR', 'ALTER_HH', 'D19_LETZTER_KAUF_BRANCHE', 'EINGEFUEGT_AM']\n",
    "\n",
    "categ_var = ['ANREDE_KZ', 'CJT_GESAMTTYP', 'FINANZTYP', 'GFK_URLAUBERTYP', 'GREEN_AVANTGARDE', 'LP_FAMILIE_FEIN',\n",
    "             'LP_FAMILIE_GROB', 'LP_STATUS_FEIN', 'LP_STATUS_GROB', 'NATIONALITAET_KZ', 'SHOPPER_TYP', 'SOHO_KZ',\n",
    "             'VERS_TYP', 'ZABEOTYP', 'GEBAEUDETYP', 'OST_WEST_KZ', 'CAMEO_DEUG_2015', 'CAMEO_DEU_2015',\n",
    "             'D19_LETZTER_KAUF_BRANCHE', 'EINGEFUEGT_AM']\n",
    "\n",
    "binary_str_var = ['OST_WEST_KZ']\n",
    "\n",
    "binary_num_var = ['ANREDE_KZ', 'GREEN_AVANTGARDE', 'SOHO_KZ', 'VERS_TYP']\n",
    "\n",
    "multi_level_var = ['CJT_GESAMTTYP', 'FINANZTYP', 'GFK_URLAUBERTYP', 'LP_FAMILIE_FEIN', 'LP_FAMILIE_GROB', \n",
    "                   'LP_STATUS_FEIN', 'LP_STATUS_GROB', 'NATIONALITAET_KZ','SHOPPER_TYP', 'ZABEOTYP', \n",
    "                   'GEBAEUDETYP', 'CAMEO_DEUG_2015', 'CAMEO_DEU_2015']\n",
    "\n",
    "mixed_var = ['LP_LEBENSPHASE_FEIN', 'LP_LEBENSPHASE_GROB', 'PRAEGENDE_JUGENDJAHRE', 'WOHNLAGE', 'CAMEO_INTL_2015', \n",
    "             'PLZ8_BAUMAX']\n",
    "\n",
    "life_stage = {1: 'younger_age',    2: 'middle_age',      3: 'younger_age',     4: 'middle_age',    5: 'advanced_age', \n",
    "              6: 'retirement_age', 7: 'advanced_age',    8: 'retirement_age',  9: 'middle_age',   10: 'middle_age', \n",
    "              11: 'advanced_age', 12: 'retirement_age', 13: 'advanced_age',   14: 'younger_age',  15: 'advanced_age',\n",
    "              16: 'advanced_age', 17: 'middle_age',     18: 'younger_age',    19: 'advanced_age', 20: 'advanced_age', \n",
    "              21: 'middle_age',   22: 'middle_age',     23: 'middle_age',     24: 'middle_age',   25: 'middle_age', \n",
    "              26: 'middle_age',   27: 'middle_age',     28: 'middle_age',     29: 'younger_age',  30: 'younger_age',\n",
    "              31: 'advanced_age', 32: 'advanced_age',   33: 'younger_age',    34: 'younger_age',  35: 'younger_age', \n",
    "              36: 'advanced_age', 37: 'advanced_age',   38: 'retirement_age', 39: 'middle_age',   40: 'retirement_age'}\n",
    "\n",
    "fine_scale = {1: 'low',       2: 'low',      3: 'average',  4: 'average',   5: 'low',      6: 'low',      7: 'average',   \n",
    "              8: 'average',   9: 'average', 10: 'wealthy', 11: 'average',  12: 'average', 13: 'top',     14: 'average', \n",
    "              15: 'low',     16: 'average', 17: 'average', 18: 'wealthy',  19: 'wealthy', 20: 'top',     21: 'low',\n",
    "              22: 'average', 23: 'wealthy', 24: 'low',     25: 'average',  26: 'average', 27: 'average', 28: 'top',     \n",
    "              29: 'low',     30: 'average', 31: 'low',     32: 'average',  33: 'average', 34: 'average', 35: 'top', \n",
    "              36: 'average', 37: 'average', 38: 'average', 39: 'top',      40: 'top'}\n",
    "\n",
    "dic_life = {'younger_age': 1, 'middle_age': 2, 'advanced_age': 3, 'retirement_age': 4}\n",
    "dic_scale = {'low': 1, 'average': 2, 'wealthy': 3, 'top': 4}\n",
    "\n",
    "decade = {1:40, 2:40, 3:50, 4:50, 5:60, 6:60, 7:60, 8:70, 9:70, 10:80, 11:80, 12:80, 13:80, 14:90, 15:90, \n",
    "          np.nan: np.nan, -1: np.nan, 0: np.nan}\n",
    "avantgarde = {1:0, 2:1, 3:0, 4:1, 5:0, 6:1, 7:1, 8:0, 9:1, 10:0, 11:1, 12:0, 13:1, 14:0, 15:1,\n",
    "              np.nan: np.nan, -1: np.nan, 0: np.nan}\n",
    "\n",
    "dummies_list = ['WOHNLAGE', 'PLZ8_BAUMAX']"
   ]
  },
  {
   "cell_type": "code",
   "execution_count": 124,
   "metadata": {},
   "outputs": [],
   "source": [
    "def clean_data(df):\n",
    "    \n",
    "    df_c = df.copy()\n",
    "    feat_info_c = new_feat_info.copy()\n",
    "    \n",
    "    feat_info_c['missing_or_unknown'] = feat_info_c.apply(lambda x: [int(i) if is_int(i) \n",
    "                                                                     else i for i in x['missing_or_unknown']], axis=1)\n",
    "    \n",
    "    for idx in feat_info_c.index:\n",
    "        column = idx\n",
    "        if column in df_c.columns:\n",
    "            df_c[column] = df_c[column].replace(feat_info_c.loc[column]['missing_or_unknown'], np.nan)\n",
    "            \n",
    "    df_c = df_c.drop(dropping, axis=1)\n",
    "    \n",
    "    for variable in dropping:\n",
    "        feat_info_c = feat_info_c[feat_info_c.attribute != variable]\n",
    "    \n",
    "    missing_values_by_row = df_c.isnull().sum(axis=1)\n",
    "    \n",
    "    threshold = 50\n",
    "    df_c = df_c[missing_values_by_row < threshold].reset_index(drop=True)\n",
    "    \n",
    "    df_c['OST_WEST_KZ'] = df_c['OST_WEST_KZ'].map({'W': 1, 'O': 2})\n",
    "    \n",
    "    df_c = encode_cat_dummies(df_c, multi_level_var)\n",
    "    \n",
    "    df_c['LP_life_stage'] = df_c['LP_LEBENSPHASE_FEIN'].map(life_stage)\n",
    "    df_c['LP_fine_scale'] = df_c['LP_LEBENSPHASE_FEIN'].map(fine_scale)\n",
    "    df_c.drop('LP_LEBENSPHASE_FEIN', axis=1, inplace=True)\n",
    "    \n",
    "    df_c['LP_life_stage'] = df_c['LP_life_stage'].map(dic_life)\n",
    "    df_c['LP_fine_scale'] = df_c['LP_fine_scale'].map(dic_scale)\n",
    "    df_c.drop('LP_LEBENSPHASE_GROB', axis=1, inplace=True)\n",
    "    \n",
    "    df_c['YOUTH'] = df_c['PRAEGENDE_JUGENDJAHRE'].map(decade)\n",
    "    df_c['AVANTGARDE'] = df_c['PRAEGENDE_JUGENDJAHRE'].map(avantgarde)\n",
    "\n",
    "    df_c = df_c.drop('PRAEGENDE_JUGENDJAHRE', axis=1)\n",
    "    \n",
    "    df_c['WOHNLAGE'] = df_c['WOHNLAGE'].replace(0, np.nan)\n",
    "    \n",
    "    df_c = encode_cat_dummies(df_c, dummies_list)\n",
    "    \n",
    "    df_c[\"CAMEO_INTL_2015\"] = df_c[\"CAMEO_INTL_2015\"].replace('XX', np.nan)\n",
    "    df_c[\"CAMEO_INTL_2015\"] = df_c[\"CAMEO_INTL_2015\"].apply(lambda x: float(x))\n",
    "    df_c[\"CAMEO_INTL_2015\"] = df_c[\"CAMEO_INTL_2015\"].apply(encode_CAMEO_INTL_2015)\n",
    "\n",
    "    df_c[\"CAMEO_INTL_2015_WEALTH\"] = df_c[\"CAMEO_INTL_2015\"].apply(lambda x: x[0])\n",
    "    df_c[\"CAMEO_INTL_2015_LIFE_STAGE\"] = df_c[\"CAMEO_INTL_2015\"].apply(lambda x: x[1])\n",
    "    df_c.drop('CAMEO_INTL_2015', axis=1, inplace=True)\n",
    "    \n",
    "    return df_c"
   ]
  },
  {
   "cell_type": "code",
   "execution_count": null,
   "metadata": {},
   "outputs": [],
   "source": [
    "azdias_clean = clean_data(azdias)"
   ]
  },
  {
   "cell_type": "markdown",
   "metadata": {},
   "source": [
    "**Feature Scaling:**"
   ]
  },
  {
   "cell_type": "code",
   "execution_count": 108,
   "metadata": {},
   "outputs": [],
   "source": [
    "# Initialize the imputer and scaler\n",
    "imputer = Imputer(missing_values='NaN', strategy='mean', axis=0)\n",
    "scaler = MinMaxScaler()"
   ]
  },
  {
   "cell_type": "code",
   "execution_count": 110,
   "metadata": {},
   "outputs": [],
   "source": [
    "azdias_imputed = pd.DataFrame(imputer.fit_transform(new_azdias), columns=new_azdias.columns)\n",
    "azdias_ss = pd.DataFrame(scaler.fit_transform(azdias_imputed), columns=azdias_imputed.columns)"
   ]
  },
  {
   "cell_type": "code",
   "execution_count": 114,
   "metadata": {},
   "outputs": [],
   "source": [
    "azdias_ss = pd.read_csv('azdias_ss.csv')"
   ]
  },
  {
   "cell_type": "markdown",
   "metadata": {},
   "source": [
    "### Discussion 2.1: Apply Feature Scaling\n",
    "\n",
    "In order to replace NaN values (needed for the unsupervised method to work properly) I decided to use Imputer and substitute them with the mean value of the variable, since I thought it was the simplest way and the mean a good measure to apply to the data for the prediction. Then, data was scaled to obtain a minimum value of 0 and maximum of 1."
   ]
  },
  {
   "cell_type": "markdown",
   "metadata": {},
   "source": [
    "**Dimensionality Reduction:**"
   ]
  },
  {
   "cell_type": "code",
   "execution_count": 114,
   "metadata": {},
   "outputs": [],
   "source": [
    "# Apply PCA to the data.\n",
    "pca = PCA()\n",
    "pca_fit = pca.fit(azdias_ss)"
   ]
  },
  {
   "cell_type": "code",
   "execution_count": 115,
   "metadata": {},
   "outputs": [],
   "source": [
    "# Investigate the variance accounted for by each principal component.\n",
    "\n",
    "def scree_plot(pca): # Function from PCA lesson\n",
    "    '''\n",
    "    Creates a scree plot associated with the principal components \n",
    "    \n",
    "    INPUT: pca - the result of instantian of PCA in scikit learn\n",
    "            \n",
    "    RETURN: None\n",
    "    '''\n",
    "    num_components= len(pca.explained_variance_ratio_)\n",
    "    idx = np.arange(num_components)\n",
    "    vals = pca.explained_variance_ratio_\n",
    " \n",
    "    plt.figure(figsize=(15, 10))\n",
    "    ax = plt.subplot(111)\n",
    "    cumvals = np.cumsum(vals)\n",
    "    ax.bar(idx, vals)\n",
    "    ax.plot(idx, cumvals)\n",
    "    for i in range(num_components):\n",
    "        if(i%20 == 0 or i<6):\n",
    "            ax.annotate(r\"%s%%\" % ((str(vals[i]*100)[:4])), (idx[i]+0.2, vals[i]), va=\"bottom\", ha=\"center\", fontsize=8)\n",
    " \n",
    "    ax.xaxis.set_tick_params(width=0, gridOn=True)\n",
    "    ax.yaxis.set_tick_params(width=2, length=12, gridOn=True)\n",
    " \n",
    "    ax.set_xlabel(\"Principal Component\")\n",
    "    ax.set_ylabel(\"Variance Explained (%)\")\n",
    "    plt.title('Explained Variance Per Principal Component')"
   ]
  },
  {
   "cell_type": "code",
   "execution_count": 116,
   "metadata": {},
   "outputs": [
    {
     "data": {
      "image/png": "[encoded data removed]",
      "text/plain": [
       "<matplotlib.figure.Figure at 0x7f3b062ce9b0>"
      ]
     },
     "metadata": {
      "needs_background": "light"
     },
     "output_type": "display_data"
    }
   ],
   "source": [
    "scree_plot(pca_fit)"
   ]
  },
  {
   "cell_type": "markdown",
   "metadata": {},
   "source": [
    "### Discussion 2.2: Perform Dimensionality Reduction\n",
    "\n",
    "I chose to retain 200 components since it provides more than 90% of variance, which is a pretty high value. It is interesting mentioning that just around 5 principal components would provide about 20% of variance, and retaining just 20 would provide almost 50%. However, 200 were chosen since we are looking to keep the highest variance possible in order not to lose much precision in the results.  "
   ]
  },
  {
   "cell_type": "code",
   "execution_count": 115,
   "metadata": {},
   "outputs": [],
   "source": [
    "# Re-apply PCA to the data while selecting for number of components to retain.\n",
    "pca = PCA(n_components=200)\n",
    "azdias_pca = pca.fit_transform(azdias_ss)"
   ]
  },
  {
   "cell_type": "code",
   "execution_count": 116,
   "metadata": {},
   "outputs": [],
   "source": [
    "# CLUSTER\n",
    "centers = []\n",
    "scores = []\n",
    "\n",
    "# Over a number of different cluster counts...\n",
    "for cluster in range(2, 15, 1):\n",
    "    # run k-means clustering on the data and...\n",
    "    kmean = KMeans(cluster)\n",
    "    model = kmean.fit(azdias_pca)\n",
    "    \n",
    "    # compute the average within-cluster distances.\n",
    "    centers.append(cluster)\n",
    "    scores.append(np.abs(model.score(azdias_pca)))    "
   ]
  },
  {
   "cell_type": "code",
   "execution_count": 117,
   "metadata": {},
   "outputs": [
    {
     "data": {
      "image/png": "[encoded data removed]",
      "text/plain": [
       "<matplotlib.figure.Figure at 0x7f9b22d9ccf8>"
      ]
     },
     "metadata": {
      "needs_background": "light"
     },
     "output_type": "display_data"
    }
   ],
   "source": [
    "# Investigate the change in within-cluster distance across number of clusters\n",
    "\n",
    "plt.plot(centers, scores, linestyle='--', marker='o', color='b');\n",
    "plt.xlabel('K');\n",
    "plt.ylabel('SSE');\n",
    "plt.title('SSE vs. K');"
   ]
  },
  {
   "cell_type": "code",
   "execution_count": 118,
   "metadata": {},
   "outputs": [],
   "source": [
    "# Re-fit the k-means model with the selected number of clusters and obtain\n",
    "# cluster predictions for the general population demographics data.\n",
    "\n",
    "kmeans = KMeans(7).fit(azdias_pca)\n",
    "azdias_pred = kmeans.predict(azdias_pca)"
   ]
  },
  {
   "cell_type": "markdown",
   "metadata": {},
   "source": [
    "### Discussion 3.1: Apply Clustering to General Population\n",
    "\n",
    "It was considered that 7 clusters will be enough for the prediction, being there where the slope changes a little bit closer to the horizontal axis in the graph. "
   ]
  },
  {
   "cell_type": "markdown",
   "metadata": {},
   "source": [
    "**Customers:**"
   ]
  },
  {
   "cell_type": "code",
   "execution_count": 136,
   "metadata": {},
   "outputs": [],
   "source": [
    "# Apply preprocessing, feature transformation, and clustering from the general\n",
    "# demographics onto the customer data, obtaining cluster predictions for the\n",
    "# customer demographics data.\n",
    "customers_clean = clean_data(customers)"
   ]
  },
  {
   "cell_type": "code",
   "execution_count": 137,
   "metadata": {},
   "outputs": [
    {
     "data": {
      "text/html": [
       "<div>\n",
       "<style scoped>\n",
       "    .dataframe tbody tr th:only-of-type {\n",
       "        vertical-align: middle;\n",
       "    }\n",
       "\n",
       "    .dataframe tbody tr th {\n",
       "        vertical-align: top;\n",
       "    }\n",
       "\n",
       "    .dataframe thead th {\n",
       "        text-align: right;\n",
       "    }\n",
       "</style>\n",
       "<table border=\"1\" class=\"dataframe\">\n",
       "  <thead>\n",
       "    <tr style=\"text-align: right;\">\n",
       "      <th></th>\n",
       "      <th>PRODUCT_GROUP</th>\n",
       "      <th>CUSTOMER_GROUP</th>\n",
       "    </tr>\n",
       "  </thead>\n",
       "  <tbody>\n",
       "    <tr>\n",
       "      <th>0</th>\n",
       "      <td>COSMETIC_AND_FOOD</td>\n",
       "      <td>MULTI_BUYER</td>\n",
       "    </tr>\n",
       "    <tr>\n",
       "      <th>1</th>\n",
       "      <td>COSMETIC_AND_FOOD</td>\n",
       "      <td>MULTI_BUYER</td>\n",
       "    </tr>\n",
       "    <tr>\n",
       "      <th>2</th>\n",
       "      <td>COSMETIC</td>\n",
       "      <td>MULTI_BUYER</td>\n",
       "    </tr>\n",
       "    <tr>\n",
       "      <th>3</th>\n",
       "      <td>FOOD</td>\n",
       "      <td>MULTI_BUYER</td>\n",
       "    </tr>\n",
       "    <tr>\n",
       "      <th>4</th>\n",
       "      <td>COSMETIC_AND_FOOD</td>\n",
       "      <td>MULTI_BUYER</td>\n",
       "    </tr>\n",
       "  </tbody>\n",
       "</table>\n",
       "</div>"
      ],
      "text/plain": [
       "       PRODUCT_GROUP CUSTOMER_GROUP\n",
       "0  COSMETIC_AND_FOOD    MULTI_BUYER\n",
       "1  COSMETIC_AND_FOOD    MULTI_BUYER\n",
       "2           COSMETIC    MULTI_BUYER\n",
       "3               FOOD    MULTI_BUYER\n",
       "4  COSMETIC_AND_FOOD    MULTI_BUYER"
      ]
     },
     "execution_count": 137,
     "metadata": {},
     "output_type": "execute_result"
    }
   ],
   "source": [
    "customers_clean.select_dtypes(include='object').head()"
   ]
  },
  {
   "cell_type": "code",
   "execution_count": 138,
   "metadata": {},
   "outputs": [
    {
     "data": {
      "text/plain": [
       "COSMETIC_AND_FOOD    72960\n",
       "FOOD                 32283\n",
       "COSMETIC             29901\n",
       "Name: PRODUCT_GROUP, dtype: int64"
      ]
     },
     "execution_count": 138,
     "metadata": {},
     "output_type": "execute_result"
    }
   ],
   "source": [
    "customers_clean['PRODUCT_GROUP'].value_counts()"
   ]
  },
  {
   "cell_type": "code",
   "execution_count": 139,
   "metadata": {},
   "outputs": [
    {
     "data": {
      "text/plain": [
       "MULTI_BUYER     95227\n",
       "SINGLE_BUYER    39917\n",
       "Name: CUSTOMER_GROUP, dtype: int64"
      ]
     },
     "execution_count": 139,
     "metadata": {},
     "output_type": "execute_result"
    }
   ],
   "source": [
    "customers_clean['CUSTOMER_GROUP'].value_counts()"
   ]
  },
  {
   "cell_type": "code",
   "execution_count": 140,
   "metadata": {},
   "outputs": [],
   "source": [
    "dummies = ['PRODUCT_GROUP', 'CUSTOMER_GROUP']\n",
    "customers_clean = encode_cat_dummies(customers_clean, dummies)"
   ]
  },
  {
   "cell_type": "code",
   "execution_count": 141,
   "metadata": {},
   "outputs": [],
   "source": [
    "customers_clean = customers_clean.replace(np.nan, 0)"
   ]
  },
  {
   "cell_type": "code",
   "execution_count": 144,
   "metadata": {},
   "outputs": [],
   "source": [
    "customers_clean.drop('LNR', axis=1, inplace=True)"
   ]
  },
  {
   "cell_type": "code",
   "execution_count": 148,
   "metadata": {},
   "outputs": [],
   "source": [
    "customers_imputed = pd.DataFrame(imputer.fit_transform(customers_clean), columns=customers_clean.columns)\n",
    "customers_ss = pd.DataFrame(scaler.fit_transform(customers_imputed), columns=customers_imputed.columns)"
   ]
  },
  {
   "cell_type": "code",
   "execution_count": 149,
   "metadata": {},
   "outputs": [],
   "source": [
    "# Re-apply PCA to the data while selecting for number of components to retain.\n",
    "customers_pca = pca.fit_transform(customers_ss)"
   ]
  },
  {
   "cell_type": "code",
   "execution_count": 150,
   "metadata": {},
   "outputs": [],
   "source": [
    "customers_pred = kmeans.predict(customers_pca)"
   ]
  },
  {
   "cell_type": "markdown",
   "metadata": {},
   "source": [
    "**Comparison:**"
   ]
  },
  {
   "cell_type": "code",
   "execution_count": 151,
   "metadata": {},
   "outputs": [],
   "source": [
    "counts_cluster_gen = pd.Series(azdias_pred).value_counts().sort_index()\n",
    "counts_cluster_gen.index = [1,2,3,4,5,6,7]\n",
    "\n",
    "prop_cluster_gen = []\n",
    "for value in counts_cluster_gen:\n",
    "    prop = value / len(azdias_pred)\n",
    "    prop_cluster_gen.append(prop)\n",
    "\n",
    "prop_cluster_general = pd.Series(prop_cluster_gen)\n",
    "prop_cluster_general.index = [1,2,3,4,5,6,7]"
   ]
  },
  {
   "cell_type": "code",
   "execution_count": 152,
   "metadata": {},
   "outputs": [],
   "source": [
    "counts_cluster_cust = pd.Series(customers_pred).value_counts().sort_index()\n",
    "counts_cluster_cust.index = [1,2,3,4,5,6,7]\n",
    "\n",
    "prop_cluster_cust = []\n",
    "for value in counts_cluster_cust:\n",
    "    prop = value / len(customers_pred)\n",
    "    prop_cluster_cust.append(prop)\n",
    "\n",
    "prop_cluster_customers = pd.Series(prop_cluster_cust)\n",
    "prop_cluster_customers.index = [1,2,3,4,5,6,7]"
   ]
  },
  {
   "cell_type": "code",
   "execution_count": 153,
   "metadata": {},
   "outputs": [
    {
     "data": {
      "image/png": "[encoded data removed]",
      "text/plain": [
       "<matplotlib.figure.Figure at 0x7f9b21f50748>"
      ]
     },
     "metadata": {
      "needs_background": "light"
     },
     "output_type": "display_data"
    }
   ],
   "source": [
    "# Compare the proportion of data in each cluster for the customer data to the\n",
    "# proportion of data in each cluster for the general population.\n",
    "\n",
    "prop = pd.DataFrame({'General Population Prop': prop_cluster_general,\n",
    "                     'Customers Prop': prop_cluster_customers})\n",
    "ax = prop.plot.bar(rot=0, figsize=(20, 10))"
   ]
  },
  {
   "cell_type": "code",
   "execution_count": 156,
   "metadata": {},
   "outputs": [
    {
     "data": {
      "text/html": [
       "<div>\n",
       "<style scoped>\n",
       "    .dataframe tbody tr th:only-of-type {\n",
       "        vertical-align: middle;\n",
       "    }\n",
       "\n",
       "    .dataframe tbody tr th {\n",
       "        vertical-align: top;\n",
       "    }\n",
       "\n",
       "    .dataframe thead th {\n",
       "        text-align: right;\n",
       "    }\n",
       "</style>\n",
       "<table border=\"1\" class=\"dataframe\">\n",
       "  <thead>\n",
       "    <tr style=\"text-align: right;\">\n",
       "      <th></th>\n",
       "      <th>AKT_DAT_KL</th>\n",
       "      <th>ALTERSKATEGORIE_FEIN</th>\n",
       "      <th>ANZ_HAUSHALTE_AKTIV</th>\n",
       "      <th>ANZ_HH_TITEL</th>\n",
       "      <th>ANZ_KINDER</th>\n",
       "      <th>ANZ_PERSONEN</th>\n",
       "      <th>ANZ_STATISTISCHE_HAUSHALTE</th>\n",
       "      <th>ANZ_TITEL</th>\n",
       "      <th>ARBEIT</th>\n",
       "      <th>BALLRAUM</th>\n",
       "      <th>...</th>\n",
       "      <th>PLZ8_BAUMAX_3.0</th>\n",
       "      <th>PLZ8_BAUMAX_4.0</th>\n",
       "      <th>PLZ8_BAUMAX_5.0</th>\n",
       "      <th>CAMEO_INTL_2015_WEALTH</th>\n",
       "      <th>CAMEO_INTL_2015_LIFE_STAGE</th>\n",
       "      <th>PRODUCT_GROUP_COSMETIC</th>\n",
       "      <th>PRODUCT_GROUP_COSMETIC_AND_FOOD</th>\n",
       "      <th>PRODUCT_GROUP_FOOD</th>\n",
       "      <th>CUSTOMER_GROUP_MULTI_BUYER</th>\n",
       "      <th>CUSTOMER_GROUP_SINGLE_BUYER</th>\n",
       "    </tr>\n",
       "  </thead>\n",
       "  <tbody>\n",
       "    <tr>\n",
       "      <th>0</th>\n",
       "      <td>1.0</td>\n",
       "      <td>9.0</td>\n",
       "      <td>-3.0</td>\n",
       "      <td>-0.0</td>\n",
       "      <td>0.0</td>\n",
       "      <td>2.0</td>\n",
       "      <td>-4.0</td>\n",
       "      <td>0.0</td>\n",
       "      <td>2.0</td>\n",
       "      <td>6.0</td>\n",
       "      <td>...</td>\n",
       "      <td>0.0</td>\n",
       "      <td>-0.0</td>\n",
       "      <td>0.0</td>\n",
       "      <td>2.0</td>\n",
       "      <td>3.0</td>\n",
       "      <td>-0.0</td>\n",
       "      <td>1.0</td>\n",
       "      <td>0.0</td>\n",
       "      <td>1.0</td>\n",
       "      <td>0.0</td>\n",
       "    </tr>\n",
       "    <tr>\n",
       "      <th>1</th>\n",
       "      <td>1.0</td>\n",
       "      <td>16.0</td>\n",
       "      <td>-1.0</td>\n",
       "      <td>-0.0</td>\n",
       "      <td>0.0</td>\n",
       "      <td>3.0</td>\n",
       "      <td>-2.0</td>\n",
       "      <td>-0.0</td>\n",
       "      <td>3.0</td>\n",
       "      <td>2.0</td>\n",
       "      <td>...</td>\n",
       "      <td>0.0</td>\n",
       "      <td>-0.0</td>\n",
       "      <td>0.0</td>\n",
       "      <td>1.0</td>\n",
       "      <td>5.0</td>\n",
       "      <td>1.0</td>\n",
       "      <td>0.0</td>\n",
       "      <td>-0.0</td>\n",
       "      <td>1.0</td>\n",
       "      <td>0.0</td>\n",
       "    </tr>\n",
       "    <tr>\n",
       "      <th>2</th>\n",
       "      <td>2.0</td>\n",
       "      <td>11.0</td>\n",
       "      <td>1.0</td>\n",
       "      <td>0.0</td>\n",
       "      <td>-0.0</td>\n",
       "      <td>1.0</td>\n",
       "      <td>1.0</td>\n",
       "      <td>0.0</td>\n",
       "      <td>2.0</td>\n",
       "      <td>6.0</td>\n",
       "      <td>...</td>\n",
       "      <td>0.0</td>\n",
       "      <td>-0.0</td>\n",
       "      <td>-0.0</td>\n",
       "      <td>1.0</td>\n",
       "      <td>4.0</td>\n",
       "      <td>0.0</td>\n",
       "      <td>-0.0</td>\n",
       "      <td>1.0</td>\n",
       "      <td>-0.0</td>\n",
       "      <td>1.0</td>\n",
       "    </tr>\n",
       "    <tr>\n",
       "      <th>3</th>\n",
       "      <td>5.0</td>\n",
       "      <td>12.0</td>\n",
       "      <td>-0.0</td>\n",
       "      <td>-0.0</td>\n",
       "      <td>0.0</td>\n",
       "      <td>3.0</td>\n",
       "      <td>-0.0</td>\n",
       "      <td>-0.0</td>\n",
       "      <td>3.0</td>\n",
       "      <td>2.0</td>\n",
       "      <td>...</td>\n",
       "      <td>0.0</td>\n",
       "      <td>-0.0</td>\n",
       "      <td>0.0</td>\n",
       "      <td>1.0</td>\n",
       "      <td>5.0</td>\n",
       "      <td>-0.0</td>\n",
       "      <td>1.0</td>\n",
       "      <td>0.0</td>\n",
       "      <td>1.0</td>\n",
       "      <td>0.0</td>\n",
       "    </tr>\n",
       "    <tr>\n",
       "      <th>4</th>\n",
       "      <td>1.0</td>\n",
       "      <td>11.0</td>\n",
       "      <td>2.0</td>\n",
       "      <td>0.0</td>\n",
       "      <td>0.0</td>\n",
       "      <td>3.0</td>\n",
       "      <td>2.0</td>\n",
       "      <td>0.0</td>\n",
       "      <td>3.0</td>\n",
       "      <td>3.0</td>\n",
       "      <td>...</td>\n",
       "      <td>0.0</td>\n",
       "      <td>-0.0</td>\n",
       "      <td>-0.0</td>\n",
       "      <td>1.0</td>\n",
       "      <td>5.0</td>\n",
       "      <td>1.0</td>\n",
       "      <td>0.0</td>\n",
       "      <td>-0.0</td>\n",
       "      <td>0.0</td>\n",
       "      <td>1.0</td>\n",
       "    </tr>\n",
       "  </tbody>\n",
       "</table>\n",
       "<p>5 rows × 489 columns</p>\n",
       "</div>"
      ],
      "text/plain": [
       "   AKT_DAT_KL  ALTERSKATEGORIE_FEIN  ANZ_HAUSHALTE_AKTIV  ANZ_HH_TITEL  \\\n",
       "0         1.0                   9.0                 -3.0          -0.0   \n",
       "1         1.0                  16.0                 -1.0          -0.0   \n",
       "2         2.0                  11.0                  1.0           0.0   \n",
       "3         5.0                  12.0                 -0.0          -0.0   \n",
       "4         1.0                  11.0                  2.0           0.0   \n",
       "\n",
       "   ANZ_KINDER  ANZ_PERSONEN  ANZ_STATISTISCHE_HAUSHALTE  ANZ_TITEL  ARBEIT  \\\n",
       "0         0.0           2.0                        -4.0        0.0     2.0   \n",
       "1         0.0           3.0                        -2.0       -0.0     3.0   \n",
       "2        -0.0           1.0                         1.0        0.0     2.0   \n",
       "3         0.0           3.0                        -0.0       -0.0     3.0   \n",
       "4         0.0           3.0                         2.0        0.0     3.0   \n",
       "\n",
       "   BALLRAUM             ...               PLZ8_BAUMAX_3.0  PLZ8_BAUMAX_4.0  \\\n",
       "0       6.0             ...                           0.0             -0.0   \n",
       "1       2.0             ...                           0.0             -0.0   \n",
       "2       6.0             ...                           0.0             -0.0   \n",
       "3       2.0             ...                           0.0             -0.0   \n",
       "4       3.0             ...                           0.0             -0.0   \n",
       "\n",
       "   PLZ8_BAUMAX_5.0  CAMEO_INTL_2015_WEALTH  CAMEO_INTL_2015_LIFE_STAGE  \\\n",
       "0              0.0                     2.0                         3.0   \n",
       "1              0.0                     1.0                         5.0   \n",
       "2             -0.0                     1.0                         4.0   \n",
       "3              0.0                     1.0                         5.0   \n",
       "4             -0.0                     1.0                         5.0   \n",
       "\n",
       "   PRODUCT_GROUP_COSMETIC  PRODUCT_GROUP_COSMETIC_AND_FOOD  \\\n",
       "0                    -0.0                              1.0   \n",
       "1                     1.0                              0.0   \n",
       "2                     0.0                             -0.0   \n",
       "3                    -0.0                              1.0   \n",
       "4                     1.0                              0.0   \n",
       "\n",
       "   PRODUCT_GROUP_FOOD  CUSTOMER_GROUP_MULTI_BUYER  CUSTOMER_GROUP_SINGLE_BUYER  \n",
       "0                 0.0                         1.0                          0.0  \n",
       "1                -0.0                         1.0                          0.0  \n",
       "2                 1.0                        -0.0                          1.0  \n",
       "3                 0.0                         1.0                          0.0  \n",
       "4                -0.0                         0.0                          1.0  \n",
       "\n",
       "[5 rows x 489 columns]"
      ]
     },
     "execution_count": 156,
     "metadata": {},
     "output_type": "execute_result"
    }
   ],
   "source": [
    "# What kinds of people are part of a cluster that is overrepresented in the\n",
    "# customer data compared to the general population?\n",
    "\n",
    "over = scaler.inverse_transform(pca.inverse_transform(customers_pca[np.where(customers_pred==3)])).round()\n",
    "df_under = pd.DataFrame(data=over, columns=customers_clean.columns)\n",
    "df_under.head()"
   ]
  },
  {
   "cell_type": "code",
   "execution_count": 157,
   "metadata": {},
   "outputs": [
    {
     "data": {
      "text/html": [
       "<div>\n",
       "<style scoped>\n",
       "    .dataframe tbody tr th:only-of-type {\n",
       "        vertical-align: middle;\n",
       "    }\n",
       "\n",
       "    .dataframe tbody tr th {\n",
       "        vertical-align: top;\n",
       "    }\n",
       "\n",
       "    .dataframe thead th {\n",
       "        text-align: right;\n",
       "    }\n",
       "</style>\n",
       "<table border=\"1\" class=\"dataframe\">\n",
       "  <thead>\n",
       "    <tr style=\"text-align: right;\">\n",
       "      <th></th>\n",
       "      <th>AKT_DAT_KL</th>\n",
       "      <th>ALTERSKATEGORIE_FEIN</th>\n",
       "      <th>ANZ_HAUSHALTE_AKTIV</th>\n",
       "      <th>ANZ_HH_TITEL</th>\n",
       "      <th>ANZ_KINDER</th>\n",
       "      <th>ANZ_PERSONEN</th>\n",
       "      <th>ANZ_STATISTISCHE_HAUSHALTE</th>\n",
       "      <th>ANZ_TITEL</th>\n",
       "      <th>ARBEIT</th>\n",
       "      <th>BALLRAUM</th>\n",
       "      <th>...</th>\n",
       "      <th>PLZ8_BAUMAX_3.0</th>\n",
       "      <th>PLZ8_BAUMAX_4.0</th>\n",
       "      <th>PLZ8_BAUMAX_5.0</th>\n",
       "      <th>CAMEO_INTL_2015_WEALTH</th>\n",
       "      <th>CAMEO_INTL_2015_LIFE_STAGE</th>\n",
       "      <th>PRODUCT_GROUP_COSMETIC</th>\n",
       "      <th>PRODUCT_GROUP_COSMETIC_AND_FOOD</th>\n",
       "      <th>PRODUCT_GROUP_FOOD</th>\n",
       "      <th>CUSTOMER_GROUP_MULTI_BUYER</th>\n",
       "      <th>CUSTOMER_GROUP_SINGLE_BUYER</th>\n",
       "    </tr>\n",
       "  </thead>\n",
       "  <tbody>\n",
       "    <tr>\n",
       "      <th>0</th>\n",
       "      <td>1.0</td>\n",
       "      <td>7.0</td>\n",
       "      <td>3.0</td>\n",
       "      <td>-0.0</td>\n",
       "      <td>-0.0</td>\n",
       "      <td>-0.0</td>\n",
       "      <td>3.0</td>\n",
       "      <td>-0.0</td>\n",
       "      <td>2.0</td>\n",
       "      <td>7.0</td>\n",
       "      <td>...</td>\n",
       "      <td>0.0</td>\n",
       "      <td>0.0</td>\n",
       "      <td>-0.0</td>\n",
       "      <td>2.0</td>\n",
       "      <td>4.0</td>\n",
       "      <td>1.0</td>\n",
       "      <td>0.0</td>\n",
       "      <td>-0.0</td>\n",
       "      <td>1.0</td>\n",
       "      <td>0.0</td>\n",
       "    </tr>\n",
       "    <tr>\n",
       "      <th>1</th>\n",
       "      <td>1.0</td>\n",
       "      <td>12.0</td>\n",
       "      <td>3.0</td>\n",
       "      <td>0.0</td>\n",
       "      <td>0.0</td>\n",
       "      <td>3.0</td>\n",
       "      <td>3.0</td>\n",
       "      <td>0.0</td>\n",
       "      <td>1.0</td>\n",
       "      <td>6.0</td>\n",
       "      <td>...</td>\n",
       "      <td>-0.0</td>\n",
       "      <td>0.0</td>\n",
       "      <td>-0.0</td>\n",
       "      <td>2.0</td>\n",
       "      <td>2.0</td>\n",
       "      <td>0.0</td>\n",
       "      <td>0.0</td>\n",
       "      <td>1.0</td>\n",
       "      <td>0.0</td>\n",
       "      <td>1.0</td>\n",
       "    </tr>\n",
       "    <tr>\n",
       "      <th>2</th>\n",
       "      <td>1.0</td>\n",
       "      <td>13.0</td>\n",
       "      <td>0.0</td>\n",
       "      <td>-0.0</td>\n",
       "      <td>-0.0</td>\n",
       "      <td>1.0</td>\n",
       "      <td>-0.0</td>\n",
       "      <td>-0.0</td>\n",
       "      <td>3.0</td>\n",
       "      <td>5.0</td>\n",
       "      <td>...</td>\n",
       "      <td>0.0</td>\n",
       "      <td>-0.0</td>\n",
       "      <td>0.0</td>\n",
       "      <td>2.0</td>\n",
       "      <td>4.0</td>\n",
       "      <td>-0.0</td>\n",
       "      <td>0.0</td>\n",
       "      <td>1.0</td>\n",
       "      <td>-0.0</td>\n",
       "      <td>1.0</td>\n",
       "    </tr>\n",
       "    <tr>\n",
       "      <th>3</th>\n",
       "      <td>1.0</td>\n",
       "      <td>7.0</td>\n",
       "      <td>4.0</td>\n",
       "      <td>0.0</td>\n",
       "      <td>-0.0</td>\n",
       "      <td>2.0</td>\n",
       "      <td>4.0</td>\n",
       "      <td>-0.0</td>\n",
       "      <td>1.0</td>\n",
       "      <td>5.0</td>\n",
       "      <td>...</td>\n",
       "      <td>-0.0</td>\n",
       "      <td>-0.0</td>\n",
       "      <td>0.0</td>\n",
       "      <td>2.0</td>\n",
       "      <td>4.0</td>\n",
       "      <td>0.0</td>\n",
       "      <td>0.0</td>\n",
       "      <td>1.0</td>\n",
       "      <td>0.0</td>\n",
       "      <td>1.0</td>\n",
       "    </tr>\n",
       "    <tr>\n",
       "      <th>4</th>\n",
       "      <td>1.0</td>\n",
       "      <td>9.0</td>\n",
       "      <td>1.0</td>\n",
       "      <td>-0.0</td>\n",
       "      <td>0.0</td>\n",
       "      <td>4.0</td>\n",
       "      <td>1.0</td>\n",
       "      <td>-0.0</td>\n",
       "      <td>2.0</td>\n",
       "      <td>6.0</td>\n",
       "      <td>...</td>\n",
       "      <td>0.0</td>\n",
       "      <td>-0.0</td>\n",
       "      <td>0.0</td>\n",
       "      <td>3.0</td>\n",
       "      <td>3.0</td>\n",
       "      <td>0.0</td>\n",
       "      <td>1.0</td>\n",
       "      <td>0.0</td>\n",
       "      <td>1.0</td>\n",
       "      <td>-0.0</td>\n",
       "    </tr>\n",
       "  </tbody>\n",
       "</table>\n",
       "<p>5 rows × 489 columns</p>\n",
       "</div>"
      ],
      "text/plain": [
       "   AKT_DAT_KL  ALTERSKATEGORIE_FEIN  ANZ_HAUSHALTE_AKTIV  ANZ_HH_TITEL  \\\n",
       "0         1.0                   7.0                  3.0          -0.0   \n",
       "1         1.0                  12.0                  3.0           0.0   \n",
       "2         1.0                  13.0                  0.0          -0.0   \n",
       "3         1.0                   7.0                  4.0           0.0   \n",
       "4         1.0                   9.0                  1.0          -0.0   \n",
       "\n",
       "   ANZ_KINDER  ANZ_PERSONEN  ANZ_STATISTISCHE_HAUSHALTE  ANZ_TITEL  ARBEIT  \\\n",
       "0        -0.0          -0.0                         3.0       -0.0     2.0   \n",
       "1         0.0           3.0                         3.0        0.0     1.0   \n",
       "2        -0.0           1.0                        -0.0       -0.0     3.0   \n",
       "3        -0.0           2.0                         4.0       -0.0     1.0   \n",
       "4         0.0           4.0                         1.0       -0.0     2.0   \n",
       "\n",
       "   BALLRAUM             ...               PLZ8_BAUMAX_3.0  PLZ8_BAUMAX_4.0  \\\n",
       "0       7.0             ...                           0.0              0.0   \n",
       "1       6.0             ...                          -0.0              0.0   \n",
       "2       5.0             ...                           0.0             -0.0   \n",
       "3       5.0             ...                          -0.0             -0.0   \n",
       "4       6.0             ...                           0.0             -0.0   \n",
       "\n",
       "   PLZ8_BAUMAX_5.0  CAMEO_INTL_2015_WEALTH  CAMEO_INTL_2015_LIFE_STAGE  \\\n",
       "0             -0.0                     2.0                         4.0   \n",
       "1             -0.0                     2.0                         2.0   \n",
       "2              0.0                     2.0                         4.0   \n",
       "3              0.0                     2.0                         4.0   \n",
       "4              0.0                     3.0                         3.0   \n",
       "\n",
       "   PRODUCT_GROUP_COSMETIC  PRODUCT_GROUP_COSMETIC_AND_FOOD  \\\n",
       "0                     1.0                              0.0   \n",
       "1                     0.0                              0.0   \n",
       "2                    -0.0                              0.0   \n",
       "3                     0.0                              0.0   \n",
       "4                     0.0                              1.0   \n",
       "\n",
       "   PRODUCT_GROUP_FOOD  CUSTOMER_GROUP_MULTI_BUYER  CUSTOMER_GROUP_SINGLE_BUYER  \n",
       "0                -0.0                         1.0                          0.0  \n",
       "1                 1.0                         0.0                          1.0  \n",
       "2                 1.0                        -0.0                          1.0  \n",
       "3                 1.0                         0.0                          1.0  \n",
       "4                 0.0                         1.0                         -0.0  \n",
       "\n",
       "[5 rows x 489 columns]"
      ]
     },
     "execution_count": 157,
     "metadata": {},
     "output_type": "execute_result"
    }
   ],
   "source": [
    "# What kinds of people are part of a cluster that is underrepresented in the\n",
    "# customer data compared to the general population?\n",
    "\n",
    "under = scaler.inverse_transform(pca.inverse_transform(customers_pca[np.where(customers_pred==1)])).round()\n",
    "df_under = pd.DataFrame(data=under, columns=customers_clean.columns)\n",
    "df_under.head()"
   ]
  },
  {
   "cell_type": "markdown",
   "metadata": {},
   "source": [
    "### Discussion 3.3: Compare Customer Data to Demographics Data\n",
    "\n",
    "The second cluster is the one with the highest customers representations, generally with people under 60 years of age, mostly male and in different finance tipologies, with emphasis in average. \n",
    "\n",
    "On the other hand, the cluster with least customer representation is the third, with people over 60 years, mostly male, with very low financial interest, highly money savers, with high financial conspicious and investments and high to average home ownserhip. "
   ]
  },
  {
   "cell_type": "markdown",
   "metadata": {},
   "source": [
    "## Part 2: Supervised Learning Model\n",
    "\n",
    "Now that you've found which parts of the population are more likely to be customers of the mail-order company, it's time to build a prediction model. Each of the rows in the \"MAILOUT\" data files represents an individual that was targeted for a mailout campaign. Ideally, we should be able to use the demographic information from each individual to decide whether or not it will be worth it to include that person in the campaign.\n",
    "\n",
    "The \"MAILOUT\" data has been split into two approximately equal parts, each with almost 43 000 data rows. In this part, you can verify your model with the \"TRAIN\" partition, which includes a column, \"RESPONSE\", that states whether or not a person became a customer of the company following the campaign. In the next part, you'll need to create predictions on the \"TEST\" partition, where the \"RESPONSE\" column has been withheld."
   ]
  },
  {
   "cell_type": "code",
   "execution_count": 158,
   "metadata": {},
   "outputs": [
    {
     "name": "stderr",
     "output_type": "stream",
     "text": [
      "/opt/conda/lib/python3.6/site-packages/IPython/core/interactiveshell.py:2785: DtypeWarning: Columns (18,19) have mixed types. Specify dtype option on import or set low_memory=False.\n",
      "  interactivity=interactivity, compiler=compiler, result=result)\n"
     ]
    }
   ],
   "source": [
    "mailout_train = pd.read_csv('../../data/Term2/capstone/arvato_data/Udacity_MAILOUT_052018_TRAIN.csv', sep=';')"
   ]
  },
  {
   "cell_type": "code",
   "execution_count": 159,
   "metadata": {},
   "outputs": [
    {
     "name": "stdout",
     "output_type": "stream",
     "text": [
      "(42962, 367)\n"
     ]
    },
    {
     "data": {
      "text/html": [
       "<div>\n",
       "<style scoped>\n",
       "    .dataframe tbody tr th:only-of-type {\n",
       "        vertical-align: middle;\n",
       "    }\n",
       "\n",
       "    .dataframe tbody tr th {\n",
       "        vertical-align: top;\n",
       "    }\n",
       "\n",
       "    .dataframe thead th {\n",
       "        text-align: right;\n",
       "    }\n",
       "</style>\n",
       "<table border=\"1\" class=\"dataframe\">\n",
       "  <thead>\n",
       "    <tr style=\"text-align: right;\">\n",
       "      <th></th>\n",
       "      <th>LNR</th>\n",
       "      <th>AGER_TYP</th>\n",
       "      <th>AKT_DAT_KL</th>\n",
       "      <th>ALTER_HH</th>\n",
       "      <th>ALTER_KIND1</th>\n",
       "      <th>ALTER_KIND2</th>\n",
       "      <th>ALTER_KIND3</th>\n",
       "      <th>ALTER_KIND4</th>\n",
       "      <th>ALTERSKATEGORIE_FEIN</th>\n",
       "      <th>ANZ_HAUSHALTE_AKTIV</th>\n",
       "      <th>...</th>\n",
       "      <th>VK_DHT4A</th>\n",
       "      <th>VK_DISTANZ</th>\n",
       "      <th>VK_ZG11</th>\n",
       "      <th>W_KEIT_KIND_HH</th>\n",
       "      <th>WOHNDAUER_2008</th>\n",
       "      <th>WOHNLAGE</th>\n",
       "      <th>ZABEOTYP</th>\n",
       "      <th>RESPONSE</th>\n",
       "      <th>ANREDE_KZ</th>\n",
       "      <th>ALTERSKATEGORIE_GROB</th>\n",
       "    </tr>\n",
       "  </thead>\n",
       "  <tbody>\n",
       "    <tr>\n",
       "      <th>0</th>\n",
       "      <td>1763</td>\n",
       "      <td>2</td>\n",
       "      <td>1.0</td>\n",
       "      <td>8.0</td>\n",
       "      <td>NaN</td>\n",
       "      <td>NaN</td>\n",
       "      <td>NaN</td>\n",
       "      <td>NaN</td>\n",
       "      <td>8.0</td>\n",
       "      <td>15.0</td>\n",
       "      <td>...</td>\n",
       "      <td>5.0</td>\n",
       "      <td>2.0</td>\n",
       "      <td>1.0</td>\n",
       "      <td>6.0</td>\n",
       "      <td>9.0</td>\n",
       "      <td>3.0</td>\n",
       "      <td>3</td>\n",
       "      <td>0</td>\n",
       "      <td>2</td>\n",
       "      <td>4</td>\n",
       "    </tr>\n",
       "    <tr>\n",
       "      <th>1</th>\n",
       "      <td>1771</td>\n",
       "      <td>1</td>\n",
       "      <td>4.0</td>\n",
       "      <td>13.0</td>\n",
       "      <td>NaN</td>\n",
       "      <td>NaN</td>\n",
       "      <td>NaN</td>\n",
       "      <td>NaN</td>\n",
       "      <td>13.0</td>\n",
       "      <td>1.0</td>\n",
       "      <td>...</td>\n",
       "      <td>1.0</td>\n",
       "      <td>2.0</td>\n",
       "      <td>1.0</td>\n",
       "      <td>4.0</td>\n",
       "      <td>9.0</td>\n",
       "      <td>7.0</td>\n",
       "      <td>1</td>\n",
       "      <td>0</td>\n",
       "      <td>2</td>\n",
       "      <td>3</td>\n",
       "    </tr>\n",
       "    <tr>\n",
       "      <th>2</th>\n",
       "      <td>1776</td>\n",
       "      <td>1</td>\n",
       "      <td>1.0</td>\n",
       "      <td>9.0</td>\n",
       "      <td>NaN</td>\n",
       "      <td>NaN</td>\n",
       "      <td>NaN</td>\n",
       "      <td>NaN</td>\n",
       "      <td>7.0</td>\n",
       "      <td>0.0</td>\n",
       "      <td>...</td>\n",
       "      <td>6.0</td>\n",
       "      <td>4.0</td>\n",
       "      <td>2.0</td>\n",
       "      <td>NaN</td>\n",
       "      <td>9.0</td>\n",
       "      <td>2.0</td>\n",
       "      <td>3</td>\n",
       "      <td>0</td>\n",
       "      <td>1</td>\n",
       "      <td>4</td>\n",
       "    </tr>\n",
       "    <tr>\n",
       "      <th>3</th>\n",
       "      <td>1460</td>\n",
       "      <td>2</td>\n",
       "      <td>1.0</td>\n",
       "      <td>6.0</td>\n",
       "      <td>NaN</td>\n",
       "      <td>NaN</td>\n",
       "      <td>NaN</td>\n",
       "      <td>NaN</td>\n",
       "      <td>6.0</td>\n",
       "      <td>4.0</td>\n",
       "      <td>...</td>\n",
       "      <td>8.0</td>\n",
       "      <td>11.0</td>\n",
       "      <td>11.0</td>\n",
       "      <td>6.0</td>\n",
       "      <td>9.0</td>\n",
       "      <td>1.0</td>\n",
       "      <td>3</td>\n",
       "      <td>0</td>\n",
       "      <td>2</td>\n",
       "      <td>4</td>\n",
       "    </tr>\n",
       "    <tr>\n",
       "      <th>4</th>\n",
       "      <td>1783</td>\n",
       "      <td>2</td>\n",
       "      <td>1.0</td>\n",
       "      <td>9.0</td>\n",
       "      <td>NaN</td>\n",
       "      <td>NaN</td>\n",
       "      <td>NaN</td>\n",
       "      <td>NaN</td>\n",
       "      <td>9.0</td>\n",
       "      <td>53.0</td>\n",
       "      <td>...</td>\n",
       "      <td>2.0</td>\n",
       "      <td>2.0</td>\n",
       "      <td>1.0</td>\n",
       "      <td>6.0</td>\n",
       "      <td>9.0</td>\n",
       "      <td>3.0</td>\n",
       "      <td>3</td>\n",
       "      <td>0</td>\n",
       "      <td>1</td>\n",
       "      <td>3</td>\n",
       "    </tr>\n",
       "  </tbody>\n",
       "</table>\n",
       "<p>5 rows × 367 columns</p>\n",
       "</div>"
      ],
      "text/plain": [
       "    LNR  AGER_TYP  AKT_DAT_KL  ALTER_HH  ALTER_KIND1  ALTER_KIND2  \\\n",
       "0  1763         2         1.0       8.0          NaN          NaN   \n",
       "1  1771         1         4.0      13.0          NaN          NaN   \n",
       "2  1776         1         1.0       9.0          NaN          NaN   \n",
       "3  1460         2         1.0       6.0          NaN          NaN   \n",
       "4  1783         2         1.0       9.0          NaN          NaN   \n",
       "\n",
       "   ALTER_KIND3  ALTER_KIND4  ALTERSKATEGORIE_FEIN  ANZ_HAUSHALTE_AKTIV  \\\n",
       "0          NaN          NaN                   8.0                 15.0   \n",
       "1          NaN          NaN                  13.0                  1.0   \n",
       "2          NaN          NaN                   7.0                  0.0   \n",
       "3          NaN          NaN                   6.0                  4.0   \n",
       "4          NaN          NaN                   9.0                 53.0   \n",
       "\n",
       "          ...           VK_DHT4A  VK_DISTANZ  VK_ZG11  W_KEIT_KIND_HH  \\\n",
       "0         ...                5.0         2.0      1.0             6.0   \n",
       "1         ...                1.0         2.0      1.0             4.0   \n",
       "2         ...                6.0         4.0      2.0             NaN   \n",
       "3         ...                8.0        11.0     11.0             6.0   \n",
       "4         ...                2.0         2.0      1.0             6.0   \n",
       "\n",
       "   WOHNDAUER_2008  WOHNLAGE  ZABEOTYP RESPONSE ANREDE_KZ ALTERSKATEGORIE_GROB  \n",
       "0             9.0       3.0         3        0         2                    4  \n",
       "1             9.0       7.0         1        0         2                    3  \n",
       "2             9.0       2.0         3        0         1                    4  \n",
       "3             9.0       1.0         3        0         2                    4  \n",
       "4             9.0       3.0         3        0         1                    3  \n",
       "\n",
       "[5 rows x 367 columns]"
      ]
     },
     "execution_count": 159,
     "metadata": {},
     "output_type": "execute_result"
    }
   ],
   "source": [
    "print(mailout_train.shape)\n",
    "mailout_train.head()"
   ]
  },
  {
   "cell_type": "code",
   "execution_count": 160,
   "metadata": {},
   "outputs": [
    {
     "data": {
      "text/plain": [
       "0    42430\n",
       "1      532\n",
       "Name: RESPONSE, dtype: int64"
      ]
     },
     "execution_count": 160,
     "metadata": {},
     "output_type": "execute_result"
    }
   ],
   "source": [
    "# As indicated within the project, our target is the variable RESPONSE\n",
    "responses_count = mailout_train['RESPONSE'].value_counts(dropna=False)\n",
    "responses_count"
   ]
  },
  {
   "cell_type": "code",
   "execution_count": 161,
   "metadata": {},
   "outputs": [],
   "source": [
    "perc_no_resp = responses_count.values[0] * 100 / len(mailout_train)\n",
    "perc_resp = 100 - perc_no_resp"
   ]
  },
  {
   "cell_type": "code",
   "execution_count": 162,
   "metadata": {},
   "outputs": [
    {
     "name": "stdout",
     "output_type": "stream",
     "text": [
      "98.76% of users did not respond and 1.24% did\n"
     ]
    }
   ],
   "source": [
    "print('{}% of users did not respond and {}% did'.format(np.round(perc_no_resp,2), np.round(perc_resp,2)))"
   ]
  },
  {
   "cell_type": "markdown",
   "metadata": {},
   "source": [
    "**Preparing the data:**"
   ]
  },
  {
   "cell_type": "code",
   "execution_count": 163,
   "metadata": {},
   "outputs": [],
   "source": [
    "# Cleaning data\n",
    "mailout_clean = clean_data(mailout_train)"
   ]
  },
  {
   "cell_type": "code",
   "execution_count": 164,
   "metadata": {},
   "outputs": [
    {
     "data": {
      "text/plain": [
       "0    33790\n",
       "1      424\n",
       "Name: RESPONSE, dtype: int64"
      ]
     },
     "execution_count": 164,
     "metadata": {},
     "output_type": "execute_result"
    }
   ],
   "source": [
    "# Response values\n",
    "responses_count = mailout_clean['RESPONSE'].value_counts(dropna=False)\n",
    "responses_count"
   ]
  },
  {
   "cell_type": "code",
   "execution_count": 165,
   "metadata": {},
   "outputs": [
    {
     "name": "stdout",
     "output_type": "stream",
     "text": [
      "98.76% no response\n",
      "1.24% response\n"
     ]
    }
   ],
   "source": [
    "perc_no_resp = responses_count.values[0] * 100 / len(mailout_clean)\n",
    "perc_resp = 100 - perc_no_resp\n",
    "print('{}% no response'.format(np.round(perc_no_resp,2)))\n",
    "print('{}% response'.format(np.round(perc_resp,2)))"
   ]
  },
  {
   "cell_type": "code",
   "execution_count": 166,
   "metadata": {},
   "outputs": [
    {
     "data": {
      "text/plain": [
       "27923"
      ]
     },
     "execution_count": 166,
     "metadata": {},
     "output_type": "execute_result"
    }
   ],
   "source": [
    "# Cheking number of registers with missing value\n",
    "mailout_clean.isnull().sum().sum()"
   ]
  },
  {
   "cell_type": "code",
   "execution_count": 167,
   "metadata": {},
   "outputs": [
    {
     "data": {
      "text/plain": [
       "0.0"
      ]
     },
     "execution_count": 167,
     "metadata": {},
     "output_type": "execute_result"
    }
   ],
   "source": [
    "# Checking number of object data (in case there is any, we need to remove it) \n",
    "mailout_clean.select_dtypes(include='object').sum().sum()"
   ]
  },
  {
   "cell_type": "code",
   "execution_count": 168,
   "metadata": {},
   "outputs": [],
   "source": [
    "# Drop LNR, the ID variable (that will not provide information to the model)\n",
    "mailout_clean.drop('LNR', axis=1, inplace=True)"
   ]
  },
  {
   "cell_type": "code",
   "execution_count": 170,
   "metadata": {
    "scrolled": true
   },
   "outputs": [],
   "source": [
    "# Imputer\n",
    "imputed_mailout = pd.DataFrame(imputer.fit_transform(mailout_clean.values), columns=mailout_clean.columns)"
   ]
  },
  {
   "cell_type": "code",
   "execution_count": 171,
   "metadata": {},
   "outputs": [],
   "source": [
    "# feature scaling\n",
    "scaled_mailout = pd.DataFrame(scaler.fit_transform(imputed_mailout.values), columns=imputed_mailout.columns)"
   ]
  },
  {
   "cell_type": "code",
   "execution_count": 172,
   "metadata": {},
   "outputs": [],
   "source": [
    "# split data to features and labels\n",
    "target = mailout_clean['RESPONSE']\n",
    "\n",
    "# drop RESPONSE variable\n",
    "features = scaled_mailout.drop('RESPONSE', axis=1)"
   ]
  },
  {
   "cell_type": "markdown",
   "metadata": {},
   "source": [
    "**Modeling the data:**"
   ]
  },
  {
   "cell_type": "code",
   "execution_count": 178,
   "metadata": {},
   "outputs": [],
   "source": [
    "# Initialize the three models\n",
    "model_A = RandomForestClassifier(random_state=42)\n",
    "model_B = AdaBoostClassifier(random_state=42)\n",
    "model_C = GradientBoostingClassifier(random_state=42)\n",
    "model_D = RandomForestRegressor(random_state=42)\n",
    "model_E = LogisticRegression(random_state=42)\n",
    "model_F = GradientBoostingRegressor(random_state=42)"
   ]
  },
  {
   "cell_type": "code",
   "execution_count": 179,
   "metadata": {},
   "outputs": [
    {
     "name": "stdout",
     "output_type": "stream",
     "text": [
      "KFold(n_splits=5, random_state=42, shuffle=False)\n"
     ]
    }
   ],
   "source": [
    "subsets = KFold(n_splits=5, random_state=42)\n",
    "subsets.get_n_splits(features, target)\n",
    "print(subsets)"
   ]
  },
  {
   "cell_type": "code",
   "execution_count": 180,
   "metadata": {},
   "outputs": [
    {
     "name": "stdout",
     "output_type": "stream",
     "text": [
      "Classifier 1: Fold 1 Score: 0.5\n",
      "Classifier 1: Fold 2 Score: 0.5\n",
      "Classifier 1: Fold 3 Score: 0.5\n",
      "Classifier 1: Fold 4 Score: 0.5\n",
      "Classifier 1: Fold 5 Score: 0.5\n",
      "Classifier 2: Fold 1 Score: 0.49992603550295855\n",
      "Classifier 2: Fold 2 Score: 0.5\n",
      "Classifier 2: Fold 3 Score: 0.5\n",
      "Classifier 2: Fold 4 Score: 0.49992617746936363\n",
      "Classifier 2: Fold 5 Score: 0.5\n",
      "Classifier 3: Fold 1 Score: 0.4996301775147929\n",
      "Classifier 3: Fold 2 Score: 0.49977774485108906\n",
      "Classifier 3: Fold 3 Score: 0.5050059737156511\n",
      "Classifier 3: Fold 4 Score: 0.49992617746936363\n",
      "Classifier 3: Fold 5 Score: 0.49963006806747556\n",
      "Classifier 4: Fold 1 Score: 0.5964336636486776\n",
      "Classifier 4: Fold 2 Score: 0.5922540139910405\n",
      "Classifier 4: Fold 3 Score: 0.5853428912783751\n",
      "Classifier 4: Fold 4 Score: 0.5584917002383414\n",
      "Classifier 4: Fold 5 Score: 0.5427597274482447\n",
      "Classifier 5: Fold 1 Score: 0.5\n",
      "Classifier 5: Fold 2 Score: 0.5\n",
      "Classifier 5: Fold 3 Score: 0.5\n",
      "Classifier 5: Fold 4 Score: 0.5\n",
      "Classifier 5: Fold 5 Score: 0.5\n",
      "Classifier 6: Fold 1 Score: 0.7515434519141656\n",
      "Classifier 6: Fold 2 Score: 0.7639539979130084\n",
      "Classifier 6: Fold 3 Score: 0.8211772202309836\n",
      "Classifier 6: Fold 4 Score: 0.7579738879163064\n",
      "Classifier 6: Fold 5 Score: 0.8070258881889542\n"
     ]
    }
   ],
   "source": [
    "for i, model in enumerate([model_A, model_B, model_C, model_D, model_E, model_F]):\n",
    "    \n",
    "    j = 0\n",
    "    for train_idx, valid_idx in subsets.split(features, target):\n",
    "        \n",
    "        X_train, X_valid = features.iloc[train_idx], features.iloc[valid_idx]\n",
    "        y_train, y_valid = target.iloc[train_idx], target.iloc[valid_idx]\n",
    "\n",
    "        model.fit(X_train, y_train)\n",
    "\n",
    "        y_pred = model.predict(X_valid)\n",
    "        \n",
    "        score = roc_auc_score(y_valid, y_pred)\n",
    "        \n",
    "        j += 1\n",
    "\n",
    "        print('Classifier {}: Fold {} Score: {}'.format(i+1, j, score))"
   ]
  },
  {
   "cell_type": "markdown",
   "metadata": {},
   "source": [
    "As the results show, the 6h classifier (model_F, GradientBoostingRegressor) is the one providing best results with the AUC ROC metric, so we will continue working with this model from now on. "
   ]
  },
  {
   "cell_type": "code",
   "execution_count": 181,
   "metadata": {},
   "outputs": [],
   "source": [
    "# Inorder to evaluate models, separate the mailout_train data into train and validation data\n",
    "X_train, X_test, y_train, y_test = train_test_split(features, target, test_size=0.3, stratify=target)"
   ]
  },
  {
   "cell_type": "code",
   "execution_count": 182,
   "metadata": {},
   "outputs": [
    {
     "data": {
      "text/plain": [
       "{'min_samples_split': 4, 'n_estimators': 50}"
      ]
     },
     "execution_count": 182,
     "metadata": {},
     "output_type": "execute_result"
    }
   ],
   "source": [
    "parameters = {'n_estimators': [50, 100, 200],\n",
    "              'min_samples_split': [2, 3, 4]}\n",
    "\n",
    "gb_model = GridSearchCV(estimator=model_F, param_grid=parameters, scoring='roc_auc')\n",
    "gb_model.fit(X_train, y_train)\n",
    "\n",
    "gb_model.best_params_"
   ]
  },
  {
   "cell_type": "code",
   "execution_count": 183,
   "metadata": {},
   "outputs": [],
   "source": [
    "model = GradientBoostingRegressor(min_samples_split=4, n_estimators=50, random_state=42)\n",
    "model.fit(X_train, y_train)\n",
    "y_pred = model.predict(X_test)"
   ]
  },
  {
   "cell_type": "code",
   "execution_count": 184,
   "metadata": {},
   "outputs": [
    {
     "data": {
      "image/png": "[encoded data removed]",
      "text/plain": [
       "<matplotlib.figure.Figure at 0x7f9b227581d0>"
      ]
     },
     "metadata": {
      "needs_background": "light"
     },
     "output_type": "display_data"
    },
    {
     "name": "stdout",
     "output_type": "stream",
     "text": [
      "0.767783718542\n"
     ]
    }
   ],
   "source": [
    "fpr, tpr, _ = metrics.roc_curve(y_test,  y_pred)\n",
    "auc = roc_auc_score(y_test, y_pred)\n",
    "plt.plot(fpr, tpr, label=\"data 1, auc=\"+str(auc))\n",
    "plt.legend(loc=4)\n",
    "plt.show()\n",
    "print(auc)"
   ]
  },
  {
   "cell_type": "markdown",
   "metadata": {},
   "source": [
    "## Part 3: Kaggle Competition\n",
    "\n",
    "Now that you've created a model to predict which individuals are most likely to respond to a mailout campaign, it's time to test that model in competition through Kaggle. If you click on the link [here](http://www.kaggle.com/t/21e6d45d4c574c7fa2d868f0e8c83140), you'll be taken to the competition page where, if you have a Kaggle account, you can enter. If you're one of the top performers, you may have the chance to be contacted by a hiring manager from Arvato or Bertelsmann for an interview!\n",
    "\n",
    "Your entry to the competition should be a CSV file with two columns. The first column should be a copy of \"LNR\", which acts as an ID number for each individual in the \"TEST\" partition. The second column, \"RESPONSE\", should be some measure of how likely each individual became a customer – this might not be a straightforward probability. As you should have found in Part 2, there is a large output class imbalance, where most individuals did not respond to the mailout. Thus, predicting individual classes and using accuracy does not seem to be an appropriate performance evaluation method. Instead, the competition will be using AUC to evaluate performance. The exact values of the \"RESPONSE\" column do not matter as much: only that the higher values try to capture as many of the actual customers as possible, early in the ROC curve sweep."
   ]
  },
  {
   "cell_type": "code",
   "execution_count": 185,
   "metadata": {},
   "outputs": [
    {
     "name": "stderr",
     "output_type": "stream",
     "text": [
      "/opt/conda/lib/python3.6/site-packages/IPython/core/interactiveshell.py:2785: DtypeWarning: Columns (18,19) have mixed types. Specify dtype option on import or set low_memory=False.\n",
      "  interactivity=interactivity, compiler=compiler, result=result)\n"
     ]
    }
   ],
   "source": [
    "mailout_test = pd.read_csv('../../data/Term2/capstone/arvato_data/Udacity_MAILOUT_052018_TEST.csv', sep=';')"
   ]
  },
  {
   "cell_type": "code",
   "execution_count": 186,
   "metadata": {},
   "outputs": [],
   "source": [
    "# Clean dat\n",
    "clean_test = clean_data(mailout_test)"
   ]
  },
  {
   "cell_type": "code",
   "execution_count": 187,
   "metadata": {},
   "outputs": [],
   "source": [
    "LNR_test = clean_test['LNR']\n",
    "clean_test.drop('LNR', axis=1, inplace=True)"
   ]
  },
  {
   "cell_type": "code",
   "execution_count": 188,
   "metadata": {},
   "outputs": [
    {
     "data": {
      "text/plain": [
       "27803"
      ]
     },
     "execution_count": 188,
     "metadata": {},
     "output_type": "execute_result"
    }
   ],
   "source": [
    "# Cheking number of registers with missing value\n",
    "clean_test.isnull().sum().sum()"
   ]
  },
  {
   "cell_type": "code",
   "execution_count": 189,
   "metadata": {},
   "outputs": [
    {
     "data": {
      "text/plain": [
       "0.0"
      ]
     },
     "execution_count": 189,
     "metadata": {},
     "output_type": "execute_result"
    }
   ],
   "source": [
    "# Checking number of object data (in case there is any, we need to remove it) \n",
    "clean_test.select_dtypes(include='object').sum().sum()"
   ]
  },
  {
   "cell_type": "code",
   "execution_count": 190,
   "metadata": {},
   "outputs": [],
   "source": [
    "# Imputer\n",
    "imputed_test = pd.DataFrame(imputer.fit_transform(clean_test.values), columns=clean_test.columns)"
   ]
  },
  {
   "cell_type": "code",
   "execution_count": 191,
   "metadata": {},
   "outputs": [],
   "source": [
    "# feature scaling\n",
    "scaled_test = pd.DataFrame(scaler.fit_transform(imputed_test.values), columns=imputed_test.columns)"
   ]
  },
  {
   "cell_type": "code",
   "execution_count": 192,
   "metadata": {},
   "outputs": [],
   "source": [
    "# Model A\n",
    "pred = model.predict(scaled_test)"
   ]
  },
  {
   "cell_type": "code",
   "execution_count": 193,
   "metadata": {},
   "outputs": [],
   "source": [
    "submission = pd.DataFrame(LNR_test)"
   ]
  },
  {
   "cell_type": "code",
   "execution_count": 194,
   "metadata": {},
   "outputs": [],
   "source": [
    "submission['RESPONSE'] = pred"
   ]
  },
  {
   "cell_type": "code",
   "execution_count": 195,
   "metadata": {},
   "outputs": [],
   "source": [
    "# Save file to submit\n",
    "submission.to_csv('Submission.csv', index=False)"
   ]
  },
  {
   "cell_type": "code",
   "execution_count": null,
   "metadata": {},
   "outputs": [],
   "source": []
  }
 ],
 "metadata": {
  "kernelspec": {
   "display_name": "Python 3",
   "language": "python",
   "name": "python3"
  },
  "language_info": {
   "codemirror_mode": {
    "name": "ipython",
    "version": 3
   },
   "file_extension": ".py",
   "mimetype": "text/x-python",
   "name": "python",
   "nbconvert_exporter": "python",
   "pygments_lexer": "ipython3",
   "version": "3.6.3"
  }
 },
 "nbformat": 4,
 "nbformat_minor": 2
}
